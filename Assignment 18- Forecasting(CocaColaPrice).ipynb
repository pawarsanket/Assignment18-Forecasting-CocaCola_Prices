{
 "cells": [
  {
   "cell_type": "code",
   "execution_count": 1,
   "id": "7a0448d2",
   "metadata": {},
   "outputs": [],
   "source": [
    "import numpy as np\n",
    "import matplotlib.pyplot as plt\n",
    "import statsmodels.api as sms\n",
    "import pandas as pd\n",
    "\n",
    "%matplotlib inline"
   ]
  },
  {
   "cell_type": "code",
   "execution_count": 2,
   "id": "df46b624",
   "metadata": {},
   "outputs": [
    {
     "data": {
      "text/html": [
       "<div>\n",
       "<style scoped>\n",
       "    .dataframe tbody tr th:only-of-type {\n",
       "        vertical-align: middle;\n",
       "    }\n",
       "\n",
       "    .dataframe tbody tr th {\n",
       "        vertical-align: top;\n",
       "    }\n",
       "\n",
       "    .dataframe thead th {\n",
       "        text-align: right;\n",
       "    }\n",
       "</style>\n",
       "<table border=\"1\" class=\"dataframe\">\n",
       "  <thead>\n",
       "    <tr style=\"text-align: right;\">\n",
       "      <th></th>\n",
       "      <th>Quarter</th>\n",
       "      <th>Sales</th>\n",
       "    </tr>\n",
       "  </thead>\n",
       "  <tbody>\n",
       "    <tr>\n",
       "      <th>0</th>\n",
       "      <td>Q1_86</td>\n",
       "      <td>1734.827000</td>\n",
       "    </tr>\n",
       "    <tr>\n",
       "      <th>1</th>\n",
       "      <td>Q2_86</td>\n",
       "      <td>2244.960999</td>\n",
       "    </tr>\n",
       "    <tr>\n",
       "      <th>2</th>\n",
       "      <td>Q3_86</td>\n",
       "      <td>2533.804993</td>\n",
       "    </tr>\n",
       "    <tr>\n",
       "      <th>3</th>\n",
       "      <td>Q4_86</td>\n",
       "      <td>2154.962997</td>\n",
       "    </tr>\n",
       "    <tr>\n",
       "      <th>4</th>\n",
       "      <td>Q1_87</td>\n",
       "      <td>1547.818996</td>\n",
       "    </tr>\n",
       "  </tbody>\n",
       "</table>\n",
       "</div>"
      ],
      "text/plain": [
       "  Quarter        Sales\n",
       "0   Q1_86  1734.827000\n",
       "1   Q2_86  2244.960999\n",
       "2   Q3_86  2533.804993\n",
       "3   Q4_86  2154.962997\n",
       "4   Q1_87  1547.818996"
      ]
     },
     "execution_count": 2,
     "metadata": {},
     "output_type": "execute_result"
    }
   ],
   "source": [
    "df_coca=pd.read_excel('CocaCola_Sales_Rawdata.xlsx')\n",
    "df_coca.head()"
   ]
  },
  {
   "cell_type": "code",
   "execution_count": 3,
   "id": "b1de6f93",
   "metadata": {},
   "outputs": [
    {
     "data": {
      "text/html": [
       "<div>\n",
       "<style scoped>\n",
       "    .dataframe tbody tr th:only-of-type {\n",
       "        vertical-align: middle;\n",
       "    }\n",
       "\n",
       "    .dataframe tbody tr th {\n",
       "        vertical-align: top;\n",
       "    }\n",
       "\n",
       "    .dataframe thead th {\n",
       "        text-align: right;\n",
       "    }\n",
       "</style>\n",
       "<table border=\"1\" class=\"dataframe\">\n",
       "  <thead>\n",
       "    <tr style=\"text-align: right;\">\n",
       "      <th></th>\n",
       "      <th>Quarter</th>\n",
       "      <th>Sales</th>\n",
       "    </tr>\n",
       "  </thead>\n",
       "  <tbody>\n",
       "    <tr>\n",
       "      <th>37</th>\n",
       "      <td>Q2_95</td>\n",
       "      <td>4936.0</td>\n",
       "    </tr>\n",
       "    <tr>\n",
       "      <th>38</th>\n",
       "      <td>Q3_95</td>\n",
       "      <td>4895.0</td>\n",
       "    </tr>\n",
       "    <tr>\n",
       "      <th>39</th>\n",
       "      <td>Q4_95</td>\n",
       "      <td>4333.0</td>\n",
       "    </tr>\n",
       "    <tr>\n",
       "      <th>40</th>\n",
       "      <td>Q1_96</td>\n",
       "      <td>4194.0</td>\n",
       "    </tr>\n",
       "    <tr>\n",
       "      <th>41</th>\n",
       "      <td>Q2_96</td>\n",
       "      <td>5253.0</td>\n",
       "    </tr>\n",
       "  </tbody>\n",
       "</table>\n",
       "</div>"
      ],
      "text/plain": [
       "   Quarter   Sales\n",
       "37   Q2_95  4936.0\n",
       "38   Q3_95  4895.0\n",
       "39   Q4_95  4333.0\n",
       "40   Q1_96  4194.0\n",
       "41   Q2_96  5253.0"
      ]
     },
     "execution_count": 3,
     "metadata": {},
     "output_type": "execute_result"
    }
   ],
   "source": [
    "df_coca.tail()"
   ]
  },
  {
   "cell_type": "markdown",
   "id": "caa08f17",
   "metadata": {},
   "source": [
    "# EDA"
   ]
  },
  {
   "cell_type": "code",
   "execution_count": 4,
   "id": "25793447",
   "metadata": {},
   "outputs": [
    {
     "data": {
      "text/plain": [
       "Quarter    0\n",
       "Sales      0\n",
       "dtype: int64"
      ]
     },
     "execution_count": 4,
     "metadata": {},
     "output_type": "execute_result"
    }
   ],
   "source": [
    "df_coca.isnull().sum()"
   ]
  },
  {
   "cell_type": "code",
   "execution_count": 5,
   "id": "45990175",
   "metadata": {},
   "outputs": [
    {
     "name": "stdout",
     "output_type": "stream",
     "text": [
      "<class 'pandas.core.frame.DataFrame'>\n",
      "RangeIndex: 42 entries, 0 to 41\n",
      "Data columns (total 2 columns):\n",
      " #   Column   Non-Null Count  Dtype  \n",
      "---  ------   --------------  -----  \n",
      " 0   Quarter  42 non-null     object \n",
      " 1   Sales    42 non-null     float64\n",
      "dtypes: float64(1), object(1)\n",
      "memory usage: 800.0+ bytes\n"
     ]
    }
   ],
   "source": [
    "df_coca.info()"
   ]
  },
  {
   "cell_type": "code",
   "execution_count": 6,
   "id": "a90d88bf",
   "metadata": {},
   "outputs": [
    {
     "data": {
      "text/html": [
       "<div>\n",
       "<style scoped>\n",
       "    .dataframe tbody tr th:only-of-type {\n",
       "        vertical-align: middle;\n",
       "    }\n",
       "\n",
       "    .dataframe tbody tr th {\n",
       "        vertical-align: top;\n",
       "    }\n",
       "\n",
       "    .dataframe thead th {\n",
       "        text-align: right;\n",
       "    }\n",
       "</style>\n",
       "<table border=\"1\" class=\"dataframe\">\n",
       "  <thead>\n",
       "    <tr style=\"text-align: right;\">\n",
       "      <th></th>\n",
       "      <th>Quarter</th>\n",
       "      <th>Sales</th>\n",
       "    </tr>\n",
       "  </thead>\n",
       "  <tbody>\n",
       "  </tbody>\n",
       "</table>\n",
       "</div>"
      ],
      "text/plain": [
       "Empty DataFrame\n",
       "Columns: [Quarter, Sales]\n",
       "Index: []"
      ]
     },
     "execution_count": 6,
     "metadata": {},
     "output_type": "execute_result"
    }
   ],
   "source": [
    "df_coca[df_coca.duplicated()]"
   ]
  },
  {
   "cell_type": "code",
   "execution_count": 7,
   "id": "dc7813b4",
   "metadata": {},
   "outputs": [
    {
     "data": {
      "text/plain": [
       "Quarter    42\n",
       "Sales      42\n",
       "dtype: int64"
      ]
     },
     "execution_count": 7,
     "metadata": {},
     "output_type": "execute_result"
    }
   ],
   "source": [
    "df_coca.nunique()"
   ]
  },
  {
   "cell_type": "code",
   "execution_count": 8,
   "id": "ffad5d93",
   "metadata": {},
   "outputs": [
    {
     "data": {
      "text/plain": [
       "(42, 2)"
      ]
     },
     "execution_count": 8,
     "metadata": {},
     "output_type": "execute_result"
    }
   ],
   "source": [
    "df_coca.shape"
   ]
  },
  {
   "cell_type": "code",
   "execution_count": 9,
   "id": "08af853f",
   "metadata": {},
   "outputs": [
    {
     "data": {
      "text/html": [
       "<div>\n",
       "<style scoped>\n",
       "    .dataframe tbody tr th:only-of-type {\n",
       "        vertical-align: middle;\n",
       "    }\n",
       "\n",
       "    .dataframe tbody tr th {\n",
       "        vertical-align: top;\n",
       "    }\n",
       "\n",
       "    .dataframe thead th {\n",
       "        text-align: right;\n",
       "    }\n",
       "</style>\n",
       "<table border=\"1\" class=\"dataframe\">\n",
       "  <thead>\n",
       "    <tr style=\"text-align: right;\">\n",
       "      <th></th>\n",
       "      <th>Sales</th>\n",
       "    </tr>\n",
       "  </thead>\n",
       "  <tbody>\n",
       "    <tr>\n",
       "      <th>count</th>\n",
       "      <td>42.000000</td>\n",
       "    </tr>\n",
       "    <tr>\n",
       "      <th>mean</th>\n",
       "      <td>2994.353308</td>\n",
       "    </tr>\n",
       "    <tr>\n",
       "      <th>std</th>\n",
       "      <td>977.930896</td>\n",
       "    </tr>\n",
       "    <tr>\n",
       "      <th>min</th>\n",
       "      <td>1547.818996</td>\n",
       "    </tr>\n",
       "    <tr>\n",
       "      <th>25%</th>\n",
       "      <td>2159.714247</td>\n",
       "    </tr>\n",
       "    <tr>\n",
       "      <th>50%</th>\n",
       "      <td>2782.376999</td>\n",
       "    </tr>\n",
       "    <tr>\n",
       "      <th>75%</th>\n",
       "      <td>3609.250000</td>\n",
       "    </tr>\n",
       "    <tr>\n",
       "      <th>max</th>\n",
       "      <td>5253.000000</td>\n",
       "    </tr>\n",
       "  </tbody>\n",
       "</table>\n",
       "</div>"
      ],
      "text/plain": [
       "             Sales\n",
       "count    42.000000\n",
       "mean   2994.353308\n",
       "std     977.930896\n",
       "min    1547.818996\n",
       "25%    2159.714247\n",
       "50%    2782.376999\n",
       "75%    3609.250000\n",
       "max    5253.000000"
      ]
     },
     "execution_count": 9,
     "metadata": {},
     "output_type": "execute_result"
    }
   ],
   "source": [
    "df_coca.describe()"
   ]
  },
  {
   "cell_type": "code",
   "execution_count": 10,
   "id": "80fd4d30",
   "metadata": {},
   "outputs": [
    {
     "data": {
      "text/html": [
       "<div>\n",
       "<style scoped>\n",
       "    .dataframe tbody tr th:only-of-type {\n",
       "        vertical-align: middle;\n",
       "    }\n",
       "\n",
       "    .dataframe tbody tr th {\n",
       "        vertical-align: top;\n",
       "    }\n",
       "\n",
       "    .dataframe thead th {\n",
       "        text-align: right;\n",
       "    }\n",
       "</style>\n",
       "<table border=\"1\" class=\"dataframe\">\n",
       "  <thead>\n",
       "    <tr style=\"text-align: right;\">\n",
       "      <th></th>\n",
       "      <th>Quarter</th>\n",
       "      <th>Sales</th>\n",
       "      <th>Quarter_Year</th>\n",
       "    </tr>\n",
       "  </thead>\n",
       "  <tbody>\n",
       "    <tr>\n",
       "      <th>0</th>\n",
       "      <td>Q1_86</td>\n",
       "      <td>1734.827000</td>\n",
       "      <td>Q1 1986</td>\n",
       "    </tr>\n",
       "    <tr>\n",
       "      <th>1</th>\n",
       "      <td>Q2_86</td>\n",
       "      <td>2244.960999</td>\n",
       "      <td>Q2 1986</td>\n",
       "    </tr>\n",
       "    <tr>\n",
       "      <th>2</th>\n",
       "      <td>Q3_86</td>\n",
       "      <td>2533.804993</td>\n",
       "      <td>Q3 1986</td>\n",
       "    </tr>\n",
       "    <tr>\n",
       "      <th>3</th>\n",
       "      <td>Q4_86</td>\n",
       "      <td>2154.962997</td>\n",
       "      <td>Q4 1986</td>\n",
       "    </tr>\n",
       "    <tr>\n",
       "      <th>4</th>\n",
       "      <td>Q1_87</td>\n",
       "      <td>1547.818996</td>\n",
       "      <td>Q1 1987</td>\n",
       "    </tr>\n",
       "  </tbody>\n",
       "</table>\n",
       "</div>"
      ],
      "text/plain": [
       "  Quarter        Sales Quarter_Year\n",
       "0   Q1_86  1734.827000      Q1 1986\n",
       "1   Q2_86  2244.960999      Q2 1986\n",
       "2   Q3_86  2533.804993      Q3 1986\n",
       "3   Q4_86  2154.962997      Q4 1986\n",
       "4   Q1_87  1547.818996      Q1 1987"
      ]
     },
     "execution_count": 10,
     "metadata": {},
     "output_type": "execute_result"
    }
   ],
   "source": [
    "# converting into datetime format as the index was not in correct format.\n",
    "df_coca['Quarter_Year'] = df_coca['Quarter'].str.split('_').apply(lambda x: ' 19'.join(x[:]))\n",
    "#Clean way to convert quarterly periods to datetime in pandas\n",
    "df_coca.head(5)"
   ]
  },
  {
   "cell_type": "code",
   "execution_count": 11,
   "id": "dfde58b0",
   "metadata": {},
   "outputs": [
    {
     "data": {
      "text/html": [
       "<div>\n",
       "<style scoped>\n",
       "    .dataframe tbody tr th:only-of-type {\n",
       "        vertical-align: middle;\n",
       "    }\n",
       "\n",
       "    .dataframe tbody tr th {\n",
       "        vertical-align: top;\n",
       "    }\n",
       "\n",
       "    .dataframe thead th {\n",
       "        text-align: right;\n",
       "    }\n",
       "</style>\n",
       "<table border=\"1\" class=\"dataframe\">\n",
       "  <thead>\n",
       "    <tr style=\"text-align: right;\">\n",
       "      <th></th>\n",
       "      <th>Quarter</th>\n",
       "      <th>Sales</th>\n",
       "      <th>Quarter_Year</th>\n",
       "      <th>Date</th>\n",
       "    </tr>\n",
       "  </thead>\n",
       "  <tbody>\n",
       "    <tr>\n",
       "      <th>0</th>\n",
       "      <td>Q1_86</td>\n",
       "      <td>1734.827000</td>\n",
       "      <td>Q1 1986</td>\n",
       "      <td>1986-01-01</td>\n",
       "    </tr>\n",
       "    <tr>\n",
       "      <th>1</th>\n",
       "      <td>Q2_86</td>\n",
       "      <td>2244.960999</td>\n",
       "      <td>Q2 1986</td>\n",
       "      <td>1986-04-01</td>\n",
       "    </tr>\n",
       "    <tr>\n",
       "      <th>2</th>\n",
       "      <td>Q3_86</td>\n",
       "      <td>2533.804993</td>\n",
       "      <td>Q3 1986</td>\n",
       "      <td>1986-07-01</td>\n",
       "    </tr>\n",
       "    <tr>\n",
       "      <th>3</th>\n",
       "      <td>Q4_86</td>\n",
       "      <td>2154.962997</td>\n",
       "      <td>Q4 1986</td>\n",
       "      <td>1986-10-01</td>\n",
       "    </tr>\n",
       "    <tr>\n",
       "      <th>4</th>\n",
       "      <td>Q1_87</td>\n",
       "      <td>1547.818996</td>\n",
       "      <td>Q1 1987</td>\n",
       "      <td>1987-01-01</td>\n",
       "    </tr>\n",
       "    <tr>\n",
       "      <th>5</th>\n",
       "      <td>Q2_87</td>\n",
       "      <td>2104.411995</td>\n",
       "      <td>Q2 1987</td>\n",
       "      <td>1987-04-01</td>\n",
       "    </tr>\n",
       "    <tr>\n",
       "      <th>6</th>\n",
       "      <td>Q3_87</td>\n",
       "      <td>2014.362999</td>\n",
       "      <td>Q3 1987</td>\n",
       "      <td>1987-07-01</td>\n",
       "    </tr>\n",
       "    <tr>\n",
       "      <th>7</th>\n",
       "      <td>Q4_87</td>\n",
       "      <td>1991.746998</td>\n",
       "      <td>Q4 1987</td>\n",
       "      <td>1987-10-01</td>\n",
       "    </tr>\n",
       "    <tr>\n",
       "      <th>8</th>\n",
       "      <td>Q1_88</td>\n",
       "      <td>1869.049999</td>\n",
       "      <td>Q1 1988</td>\n",
       "      <td>1988-01-01</td>\n",
       "    </tr>\n",
       "    <tr>\n",
       "      <th>9</th>\n",
       "      <td>Q2_88</td>\n",
       "      <td>2313.631996</td>\n",
       "      <td>Q2 1988</td>\n",
       "      <td>1988-04-01</td>\n",
       "    </tr>\n",
       "  </tbody>\n",
       "</table>\n",
       "</div>"
      ],
      "text/plain": [
       "  Quarter        Sales Quarter_Year       Date\n",
       "0   Q1_86  1734.827000      Q1 1986 1986-01-01\n",
       "1   Q2_86  2244.960999      Q2 1986 1986-04-01\n",
       "2   Q3_86  2533.804993      Q3 1986 1986-07-01\n",
       "3   Q4_86  2154.962997      Q4 1986 1986-10-01\n",
       "4   Q1_87  1547.818996      Q1 1987 1987-01-01\n",
       "5   Q2_87  2104.411995      Q2 1987 1987-04-01\n",
       "6   Q3_87  2014.362999      Q3 1987 1987-07-01\n",
       "7   Q4_87  1991.746998      Q4 1987 1987-10-01\n",
       "8   Q1_88  1869.049999      Q1 1988 1988-01-01\n",
       "9   Q2_88  2313.631996      Q2 1988 1988-04-01"
      ]
     },
     "execution_count": 11,
     "metadata": {},
     "output_type": "execute_result"
    }
   ],
   "source": [
    "#Extract date from the quarters\n",
    "df_coca['Date'] = (pd.to_datetime(df_coca['Quarter_Year'].str.split(' ').apply(lambda x: ''.join(x[::-1])),dayfirst=True))\n",
    "df_coca.head(10)"
   ]
  },
  {
   "cell_type": "code",
   "execution_count": 12,
   "id": "332ee0ca",
   "metadata": {},
   "outputs": [
    {
     "name": "stderr",
     "output_type": "stream",
     "text": [
      "C:\\Users\\USER\\AppData\\Local\\Temp/ipykernel_10036/2720000210.py:6: SettingWithCopyWarning: \n",
      "A value is trying to be set on a copy of a slice from a DataFrame\n",
      "\n",
      "See the caveats in the documentation: https://pandas.pydata.org/pandas-docs/stable/user_guide/indexing.html#returning-a-view-versus-a-copy\n",
      "  df_coca['Quarters'][i] = n[0:2]\n",
      "C:\\Users\\USER\\anaconda3\\lib\\site-packages\\pandas\\core\\indexing.py:1732: SettingWithCopyWarning: \n",
      "A value is trying to be set on a copy of a slice from a DataFrame\n",
      "\n",
      "See the caveats in the documentation: https://pandas.pydata.org/pandas-docs/stable/user_guide/indexing.html#returning-a-view-versus-a-copy\n",
      "  self._setitem_single_block(indexer, value, name)\n"
     ]
    },
    {
     "data": {
      "text/html": [
       "<div>\n",
       "<style scoped>\n",
       "    .dataframe tbody tr th:only-of-type {\n",
       "        vertical-align: middle;\n",
       "    }\n",
       "\n",
       "    .dataframe tbody tr th {\n",
       "        vertical-align: top;\n",
       "    }\n",
       "\n",
       "    .dataframe thead th {\n",
       "        text-align: right;\n",
       "    }\n",
       "</style>\n",
       "<table border=\"1\" class=\"dataframe\">\n",
       "  <thead>\n",
       "    <tr style=\"text-align: right;\">\n",
       "      <th></th>\n",
       "      <th>Quarter</th>\n",
       "      <th>Sales</th>\n",
       "      <th>Quarter_Year</th>\n",
       "      <th>Date</th>\n",
       "      <th>Quarters</th>\n",
       "    </tr>\n",
       "  </thead>\n",
       "  <tbody>\n",
       "    <tr>\n",
       "      <th>0</th>\n",
       "      <td>Q1_86</td>\n",
       "      <td>1734.827000</td>\n",
       "      <td>Q1 1986</td>\n",
       "      <td>1986-01-01</td>\n",
       "      <td>Q1</td>\n",
       "    </tr>\n",
       "    <tr>\n",
       "      <th>1</th>\n",
       "      <td>Q2_86</td>\n",
       "      <td>2244.960999</td>\n",
       "      <td>Q2 1986</td>\n",
       "      <td>1986-04-01</td>\n",
       "      <td>Q2</td>\n",
       "    </tr>\n",
       "    <tr>\n",
       "      <th>2</th>\n",
       "      <td>Q3_86</td>\n",
       "      <td>2533.804993</td>\n",
       "      <td>Q3 1986</td>\n",
       "      <td>1986-07-01</td>\n",
       "      <td>Q3</td>\n",
       "    </tr>\n",
       "    <tr>\n",
       "      <th>3</th>\n",
       "      <td>Q4_86</td>\n",
       "      <td>2154.962997</td>\n",
       "      <td>Q4 1986</td>\n",
       "      <td>1986-10-01</td>\n",
       "      <td>Q4</td>\n",
       "    </tr>\n",
       "    <tr>\n",
       "      <th>4</th>\n",
       "      <td>Q1_87</td>\n",
       "      <td>1547.818996</td>\n",
       "      <td>Q1 1987</td>\n",
       "      <td>1987-01-01</td>\n",
       "      <td>Q1</td>\n",
       "    </tr>\n",
       "  </tbody>\n",
       "</table>\n",
       "</div>"
      ],
      "text/plain": [
       "  Quarter        Sales Quarter_Year       Date Quarters\n",
       "0   Q1_86  1734.827000      Q1 1986 1986-01-01       Q1\n",
       "1   Q2_86  2244.960999      Q2 1986 1986-04-01       Q2\n",
       "2   Q3_86  2533.804993      Q3 1986 1986-07-01       Q3\n",
       "3   Q4_86  2154.962997      Q4 1986 1986-10-01       Q4\n",
       "4   Q1_87  1547.818996      Q1 1987 1987-01-01       Q1"
      ]
     },
     "execution_count": 12,
     "metadata": {},
     "output_type": "execute_result"
    }
   ],
   "source": [
    "#Extracting quarters from and creatin seperate column\n",
    "df_coca['Quarters'] = 0\n",
    "\n",
    "for i in range(42):\n",
    "    n = df_coca['Quarter'][i]\n",
    "    df_coca['Quarters'][i] = n[0:2]\n",
    "    \n",
    "df_coca.head(5)"
   ]
  },
  {
   "cell_type": "code",
   "execution_count": 13,
   "id": "faf621ab",
   "metadata": {},
   "outputs": [
    {
     "data": {
      "text/html": [
       "<div>\n",
       "<style scoped>\n",
       "    .dataframe tbody tr th:only-of-type {\n",
       "        vertical-align: middle;\n",
       "    }\n",
       "\n",
       "    .dataframe tbody tr th {\n",
       "        vertical-align: top;\n",
       "    }\n",
       "\n",
       "    .dataframe thead th {\n",
       "        text-align: right;\n",
       "    }\n",
       "</style>\n",
       "<table border=\"1\" class=\"dataframe\">\n",
       "  <thead>\n",
       "    <tr style=\"text-align: right;\">\n",
       "      <th></th>\n",
       "      <th>Quarter</th>\n",
       "      <th>Sales</th>\n",
       "      <th>Quarter_Year</th>\n",
       "      <th>Date</th>\n",
       "      <th>Quarters</th>\n",
       "      <th>Q1</th>\n",
       "      <th>Q2</th>\n",
       "      <th>Q3</th>\n",
       "      <th>Q4</th>\n",
       "    </tr>\n",
       "  </thead>\n",
       "  <tbody>\n",
       "    <tr>\n",
       "      <th>0</th>\n",
       "      <td>Q1_86</td>\n",
       "      <td>1734.827000</td>\n",
       "      <td>Q1 1986</td>\n",
       "      <td>1986-01-01</td>\n",
       "      <td>Q1</td>\n",
       "      <td>1</td>\n",
       "      <td>0</td>\n",
       "      <td>0</td>\n",
       "      <td>0</td>\n",
       "    </tr>\n",
       "    <tr>\n",
       "      <th>1</th>\n",
       "      <td>Q2_86</td>\n",
       "      <td>2244.960999</td>\n",
       "      <td>Q2 1986</td>\n",
       "      <td>1986-04-01</td>\n",
       "      <td>Q2</td>\n",
       "      <td>0</td>\n",
       "      <td>1</td>\n",
       "      <td>0</td>\n",
       "      <td>0</td>\n",
       "    </tr>\n",
       "    <tr>\n",
       "      <th>2</th>\n",
       "      <td>Q3_86</td>\n",
       "      <td>2533.804993</td>\n",
       "      <td>Q3 1986</td>\n",
       "      <td>1986-07-01</td>\n",
       "      <td>Q3</td>\n",
       "      <td>0</td>\n",
       "      <td>0</td>\n",
       "      <td>1</td>\n",
       "      <td>0</td>\n",
       "    </tr>\n",
       "    <tr>\n",
       "      <th>3</th>\n",
       "      <td>Q4_86</td>\n",
       "      <td>2154.962997</td>\n",
       "      <td>Q4 1986</td>\n",
       "      <td>1986-10-01</td>\n",
       "      <td>Q4</td>\n",
       "      <td>0</td>\n",
       "      <td>0</td>\n",
       "      <td>0</td>\n",
       "      <td>1</td>\n",
       "    </tr>\n",
       "    <tr>\n",
       "      <th>4</th>\n",
       "      <td>Q1_87</td>\n",
       "      <td>1547.818996</td>\n",
       "      <td>Q1 1987</td>\n",
       "      <td>1987-01-01</td>\n",
       "      <td>Q1</td>\n",
       "      <td>1</td>\n",
       "      <td>0</td>\n",
       "      <td>0</td>\n",
       "      <td>0</td>\n",
       "    </tr>\n",
       "  </tbody>\n",
       "</table>\n",
       "</div>"
      ],
      "text/plain": [
       "  Quarter        Sales Quarter_Year       Date Quarters  Q1  Q2  Q3  Q4\n",
       "0   Q1_86  1734.827000      Q1 1986 1986-01-01       Q1   1   0   0   0\n",
       "1   Q2_86  2244.960999      Q2 1986 1986-04-01       Q2   0   1   0   0\n",
       "2   Q3_86  2533.804993      Q3 1986 1986-07-01       Q3   0   0   1   0\n",
       "3   Q4_86  2154.962997      Q4 1986 1986-10-01       Q4   0   0   0   1\n",
       "4   Q1_87  1547.818996      Q1 1987 1987-01-01       Q1   1   0   0   0"
      ]
     },
     "execution_count": 13,
     "metadata": {},
     "output_type": "execute_result"
    }
   ],
   "source": [
    "#Create dummy variable for quarters\n",
    "dummy = pd.DataFrame(pd.get_dummies(df_coca['Quarters']))\n",
    "df1 = pd.concat((df_coca, dummy), axis=1)\n",
    "\n",
    "df1.head()"
   ]
  },
  {
   "cell_type": "code",
   "execution_count": 14,
   "id": "10230d53",
   "metadata": {},
   "outputs": [
    {
     "data": {
      "text/html": [
       "<div>\n",
       "<style scoped>\n",
       "    .dataframe tbody tr th:only-of-type {\n",
       "        vertical-align: middle;\n",
       "    }\n",
       "\n",
       "    .dataframe tbody tr th {\n",
       "        vertical-align: top;\n",
       "    }\n",
       "\n",
       "    .dataframe thead th {\n",
       "        text-align: right;\n",
       "    }\n",
       "</style>\n",
       "<table border=\"1\" class=\"dataframe\">\n",
       "  <thead>\n",
       "    <tr style=\"text-align: right;\">\n",
       "      <th></th>\n",
       "      <th>Sales</th>\n",
       "      <th>Date</th>\n",
       "      <th>Quarters</th>\n",
       "      <th>Q1</th>\n",
       "      <th>Q2</th>\n",
       "      <th>Q3</th>\n",
       "      <th>Q4</th>\n",
       "    </tr>\n",
       "  </thead>\n",
       "  <tbody>\n",
       "    <tr>\n",
       "      <th>0</th>\n",
       "      <td>1734.827000</td>\n",
       "      <td>1986-01-01</td>\n",
       "      <td>Q1</td>\n",
       "      <td>1</td>\n",
       "      <td>0</td>\n",
       "      <td>0</td>\n",
       "      <td>0</td>\n",
       "    </tr>\n",
       "    <tr>\n",
       "      <th>1</th>\n",
       "      <td>2244.960999</td>\n",
       "      <td>1986-04-01</td>\n",
       "      <td>Q2</td>\n",
       "      <td>0</td>\n",
       "      <td>1</td>\n",
       "      <td>0</td>\n",
       "      <td>0</td>\n",
       "    </tr>\n",
       "    <tr>\n",
       "      <th>2</th>\n",
       "      <td>2533.804993</td>\n",
       "      <td>1986-07-01</td>\n",
       "      <td>Q3</td>\n",
       "      <td>0</td>\n",
       "      <td>0</td>\n",
       "      <td>1</td>\n",
       "      <td>0</td>\n",
       "    </tr>\n",
       "    <tr>\n",
       "      <th>3</th>\n",
       "      <td>2154.962997</td>\n",
       "      <td>1986-10-01</td>\n",
       "      <td>Q4</td>\n",
       "      <td>0</td>\n",
       "      <td>0</td>\n",
       "      <td>0</td>\n",
       "      <td>1</td>\n",
       "    </tr>\n",
       "    <tr>\n",
       "      <th>4</th>\n",
       "      <td>1547.818996</td>\n",
       "      <td>1987-01-01</td>\n",
       "      <td>Q1</td>\n",
       "      <td>1</td>\n",
       "      <td>0</td>\n",
       "      <td>0</td>\n",
       "      <td>0</td>\n",
       "    </tr>\n",
       "  </tbody>\n",
       "</table>\n",
       "</div>"
      ],
      "text/plain": [
       "         Sales       Date Quarters  Q1  Q2  Q3  Q4\n",
       "0  1734.827000 1986-01-01       Q1   1   0   0   0\n",
       "1  2244.960999 1986-04-01       Q2   0   1   0   0\n",
       "2  2533.804993 1986-07-01       Q3   0   0   1   0\n",
       "3  2154.962997 1986-10-01       Q4   0   0   0   1\n",
       "4  1547.818996 1987-01-01       Q1   1   0   0   0"
      ]
     },
     "execution_count": 14,
     "metadata": {},
     "output_type": "execute_result"
    }
   ],
   "source": [
    "#drop the unnecessary columns\n",
    "df1.drop(['Quarter','Quarter_Year'] , axis =1, inplace = True)\n",
    "df1.head()"
   ]
  },
  {
   "cell_type": "code",
   "execution_count": 15,
   "id": "d73d17bc",
   "metadata": {},
   "outputs": [],
   "source": [
    "#Get Month column as index of data\n",
    "df_raw = df1.copy()\n",
    "df1.set_index('Date',inplace=True)"
   ]
  },
  {
   "cell_type": "code",
   "execution_count": 16,
   "id": "a8be903a",
   "metadata": {},
   "outputs": [
    {
     "data": {
      "text/html": [
       "<div>\n",
       "<style scoped>\n",
       "    .dataframe tbody tr th:only-of-type {\n",
       "        vertical-align: middle;\n",
       "    }\n",
       "\n",
       "    .dataframe tbody tr th {\n",
       "        vertical-align: top;\n",
       "    }\n",
       "\n",
       "    .dataframe thead th {\n",
       "        text-align: right;\n",
       "    }\n",
       "</style>\n",
       "<table border=\"1\" class=\"dataframe\">\n",
       "  <thead>\n",
       "    <tr style=\"text-align: right;\">\n",
       "      <th></th>\n",
       "      <th>Sales</th>\n",
       "      <th>Quarters</th>\n",
       "      <th>Q1</th>\n",
       "      <th>Q2</th>\n",
       "      <th>Q3</th>\n",
       "      <th>Q4</th>\n",
       "    </tr>\n",
       "    <tr>\n",
       "      <th>Date</th>\n",
       "      <th></th>\n",
       "      <th></th>\n",
       "      <th></th>\n",
       "      <th></th>\n",
       "      <th></th>\n",
       "      <th></th>\n",
       "    </tr>\n",
       "  </thead>\n",
       "  <tbody>\n",
       "    <tr>\n",
       "      <th>1986-01-01</th>\n",
       "      <td>1734.827000</td>\n",
       "      <td>Q1</td>\n",
       "      <td>1</td>\n",
       "      <td>0</td>\n",
       "      <td>0</td>\n",
       "      <td>0</td>\n",
       "    </tr>\n",
       "    <tr>\n",
       "      <th>1986-04-01</th>\n",
       "      <td>2244.960999</td>\n",
       "      <td>Q2</td>\n",
       "      <td>0</td>\n",
       "      <td>1</td>\n",
       "      <td>0</td>\n",
       "      <td>0</td>\n",
       "    </tr>\n",
       "    <tr>\n",
       "      <th>1986-07-01</th>\n",
       "      <td>2533.804993</td>\n",
       "      <td>Q3</td>\n",
       "      <td>0</td>\n",
       "      <td>0</td>\n",
       "      <td>1</td>\n",
       "      <td>0</td>\n",
       "    </tr>\n",
       "    <tr>\n",
       "      <th>1986-10-01</th>\n",
       "      <td>2154.962997</td>\n",
       "      <td>Q4</td>\n",
       "      <td>0</td>\n",
       "      <td>0</td>\n",
       "      <td>0</td>\n",
       "      <td>1</td>\n",
       "    </tr>\n",
       "    <tr>\n",
       "      <th>1987-01-01</th>\n",
       "      <td>1547.818996</td>\n",
       "      <td>Q1</td>\n",
       "      <td>1</td>\n",
       "      <td>0</td>\n",
       "      <td>0</td>\n",
       "      <td>0</td>\n",
       "    </tr>\n",
       "  </tbody>\n",
       "</table>\n",
       "</div>"
      ],
      "text/plain": [
       "                  Sales Quarters  Q1  Q2  Q3  Q4\n",
       "Date                                            \n",
       "1986-01-01  1734.827000       Q1   1   0   0   0\n",
       "1986-04-01  2244.960999       Q2   0   1   0   0\n",
       "1986-07-01  2533.804993       Q3   0   0   1   0\n",
       "1986-10-01  2154.962997       Q4   0   0   0   1\n",
       "1987-01-01  1547.818996       Q1   1   0   0   0"
      ]
     },
     "execution_count": 16,
     "metadata": {},
     "output_type": "execute_result"
    }
   ],
   "source": [
    "df1.head()"
   ]
  },
  {
   "cell_type": "markdown",
   "id": "98c20fb3",
   "metadata": {},
   "source": [
    "# Viz"
   ]
  },
  {
   "cell_type": "code",
   "execution_count": 17,
   "id": "55249e0c",
   "metadata": {},
   "outputs": [
    {
     "data": {
      "text/plain": [
       "<AxesSubplot: xlabel='Date'>"
      ]
     },
     "execution_count": 17,
     "metadata": {},
     "output_type": "execute_result"
    },
    {
     "data": {
      "image/png": "[encoded data removed]",
      "text/plain": [
       "<Figure size 432x288 with 1 Axes>"
      ]
     },
     "metadata": {
      "needs_background": "light"
     },
     "output_type": "display_data"
    }
   ],
   "source": [
    "df1.Sales.plot()"
   ]
  },
  {
   "cell_type": "markdown",
   "id": "2392a8d8",
   "metadata": {},
   "source": [
    "### Histogram"
   ]
  },
  {
   "cell_type": "code",
   "execution_count": 18,
   "id": "33c1e538",
   "metadata": {},
   "outputs": [
    {
     "data": {
      "image/png": "[encoded data removed]",
      "text/plain": [
       "<Figure size 432x288 with 1 Axes>"
      ]
     },
     "metadata": {
      "needs_background": "light"
     },
     "output_type": "display_data"
    }
   ],
   "source": [
    "df1.Sales.hist()\n",
    "plt.show()"
   ]
  },
  {
   "cell_type": "markdown",
   "id": "c55fa3d0",
   "metadata": {},
   "source": [
    "### Distplot"
   ]
  },
  {
   "cell_type": "code",
   "execution_count": 19,
   "id": "6a3c190c",
   "metadata": {},
   "outputs": [
    {
     "data": {
      "image/png": "[encoded data removed]",
      "text/plain": [
       "<Figure size 432x288 with 1 Axes>"
      ]
     },
     "metadata": {
      "needs_background": "light"
     },
     "output_type": "display_data"
    }
   ],
   "source": [
    "df1.Sales.plot(kind='kde')\n",
    "plt.show()"
   ]
  },
  {
   "cell_type": "markdown",
   "id": "6572c772",
   "metadata": {},
   "source": [
    "### Lagplot"
   ]
  },
  {
   "cell_type": "code",
   "execution_count": 20,
   "id": "3ff73eb8",
   "metadata": {},
   "outputs": [
    {
     "data": {
      "text/plain": [
       "<AxesSubplot: xlabel='y(t)', ylabel='y(t + 1)'>"
      ]
     },
     "execution_count": 20,
     "metadata": {},
     "output_type": "execute_result"
    },
    {
     "data": {
      "image/png": "[encoded data removed]",
      "text/plain": [
       "<Figure size 432x288 with 1 Axes>"
      ]
     },
     "metadata": {
      "needs_background": "light"
     },
     "output_type": "display_data"
    }
   ],
   "source": [
    "from pandas.plotting import lag_plot\n",
    "lag_plot(df1.Sales)"
   ]
  },
  {
   "cell_type": "code",
   "execution_count": 21,
   "id": "b956e62d",
   "metadata": {},
   "outputs": [
    {
     "data": {
      "text/html": [
       "<div>\n",
       "<style scoped>\n",
       "    .dataframe tbody tr th:only-of-type {\n",
       "        vertical-align: middle;\n",
       "    }\n",
       "\n",
       "    .dataframe tbody tr th {\n",
       "        vertical-align: top;\n",
       "    }\n",
       "\n",
       "    .dataframe thead th {\n",
       "        text-align: right;\n",
       "    }\n",
       "</style>\n",
       "<table border=\"1\" class=\"dataframe\">\n",
       "  <thead>\n",
       "    <tr style=\"text-align: right;\">\n",
       "      <th></th>\n",
       "      <th>Sales</th>\n",
       "      <th>Date</th>\n",
       "      <th>Quarters</th>\n",
       "      <th>Q1</th>\n",
       "      <th>Q2</th>\n",
       "      <th>Q3</th>\n",
       "      <th>Q4</th>\n",
       "      <th>month</th>\n",
       "      <th>year</th>\n",
       "    </tr>\n",
       "  </thead>\n",
       "  <tbody>\n",
       "    <tr>\n",
       "      <th>0</th>\n",
       "      <td>1734.827000</td>\n",
       "      <td>1986-01-01</td>\n",
       "      <td>Q1</td>\n",
       "      <td>1</td>\n",
       "      <td>0</td>\n",
       "      <td>0</td>\n",
       "      <td>0</td>\n",
       "      <td>Jan</td>\n",
       "      <td>1986</td>\n",
       "    </tr>\n",
       "    <tr>\n",
       "      <th>1</th>\n",
       "      <td>2244.960999</td>\n",
       "      <td>1986-04-01</td>\n",
       "      <td>Q2</td>\n",
       "      <td>0</td>\n",
       "      <td>1</td>\n",
       "      <td>0</td>\n",
       "      <td>0</td>\n",
       "      <td>Apr</td>\n",
       "      <td>1986</td>\n",
       "    </tr>\n",
       "    <tr>\n",
       "      <th>2</th>\n",
       "      <td>2533.804993</td>\n",
       "      <td>1986-07-01</td>\n",
       "      <td>Q3</td>\n",
       "      <td>0</td>\n",
       "      <td>0</td>\n",
       "      <td>1</td>\n",
       "      <td>0</td>\n",
       "      <td>Jul</td>\n",
       "      <td>1986</td>\n",
       "    </tr>\n",
       "    <tr>\n",
       "      <th>3</th>\n",
       "      <td>2154.962997</td>\n",
       "      <td>1986-10-01</td>\n",
       "      <td>Q4</td>\n",
       "      <td>0</td>\n",
       "      <td>0</td>\n",
       "      <td>0</td>\n",
       "      <td>1</td>\n",
       "      <td>Oct</td>\n",
       "      <td>1986</td>\n",
       "    </tr>\n",
       "    <tr>\n",
       "      <th>4</th>\n",
       "      <td>1547.818996</td>\n",
       "      <td>1987-01-01</td>\n",
       "      <td>Q1</td>\n",
       "      <td>1</td>\n",
       "      <td>0</td>\n",
       "      <td>0</td>\n",
       "      <td>0</td>\n",
       "      <td>Jan</td>\n",
       "      <td>1987</td>\n",
       "    </tr>\n",
       "  </tbody>\n",
       "</table>\n",
       "</div>"
      ],
      "text/plain": [
       "         Sales       Date Quarters  Q1  Q2  Q3  Q4 month  year\n",
       "0  1734.827000 1986-01-01       Q1   1   0   0   0   Jan  1986\n",
       "1  2244.960999 1986-04-01       Q2   0   1   0   0   Apr  1986\n",
       "2  2533.804993 1986-07-01       Q3   0   0   1   0   Jul  1986\n",
       "3  2154.962997 1986-10-01       Q4   0   0   0   1   Oct  1986\n",
       "4  1547.818996 1987-01-01       Q1   1   0   0   0   Jan  1987"
      ]
     },
     "execution_count": 21,
     "metadata": {},
     "output_type": "execute_result"
    }
   ],
   "source": [
    "#Get month and year columns in our data\n",
    "df_raw[\"Date\"] = pd.to_datetime(df_raw.Date,format=\"%b-%y\")\n",
    "df_raw[\"month\"] = df_raw.Date.dt.strftime(\"%b\") # month extraction\n",
    "df_raw[\"year\"] = df_raw.Date.dt.strftime(\"%Y\") # year extraction\n",
    "df_raw.head()"
   ]
  },
  {
   "cell_type": "markdown",
   "id": "de397e94",
   "metadata": {},
   "source": [
    "### Heatmap"
   ]
  },
  {
   "cell_type": "code",
   "execution_count": 22,
   "id": "ccd792eb",
   "metadata": {},
   "outputs": [
    {
     "data": {
      "text/plain": [
       "<AxesSubplot: xlabel='Quarters', ylabel='year'>"
      ]
     },
     "execution_count": 22,
     "metadata": {},
     "output_type": "execute_result"
    },
    {
     "data": {
      "image/png": "[encoded data removed]",
      "text/plain": [
       "<Figure size 864x576 with 2 Axes>"
      ]
     },
     "metadata": {
      "needs_background": "light"
     },
     "output_type": "display_data"
    }
   ],
   "source": [
    "import seaborn as sns\n",
    "plt.figure(figsize=(12,8))\n",
    "heatmap_y_month = pd.pivot_table(data=df_raw,values=\"Sales\",index=\"year\",columns=\"Quarters\",aggfunc=\"mean\",fill_value=0)\n",
    "sns.heatmap(heatmap_y_month,annot=True,fmt=\"g\")"
   ]
  },
  {
   "cell_type": "markdown",
   "id": "f04485f8",
   "metadata": {},
   "source": [
    "#### Q2 have higher sales in the years\n",
    "#### Sales have decreased every year"
   ]
  },
  {
   "cell_type": "markdown",
   "id": "2e056c10",
   "metadata": {},
   "source": [
    "### Boxplot"
   ]
  },
  {
   "cell_type": "code",
   "execution_count": 23,
   "id": "b1563839",
   "metadata": {},
   "outputs": [
    {
     "data": {
      "text/plain": [
       "<AxesSubplot: xlabel='year', ylabel='Sales'>"
      ]
     },
     "execution_count": 23,
     "metadata": {},
     "output_type": "execute_result"
    },
    {
     "data": {
      "image/png": "[encoded data removed]",
      "text/plain": [
       "<Figure size 576x432 with 2 Axes>"
      ]
     },
     "metadata": {
      "needs_background": "light"
     },
     "output_type": "display_data"
    }
   ],
   "source": [
    "plt.figure(figsize=(8,6))\n",
    "plt.subplot(211)\n",
    "sns.boxplot(x=\"Quarters\",y=\"Sales\",data=df_raw)\n",
    "plt.subplot(212)\n",
    "sns.boxplot(x=\"year\",y=\"Sales\",data=df_raw)"
   ]
  },
  {
   "cell_type": "code",
   "execution_count": 24,
   "id": "5431f13d",
   "metadata": {},
   "outputs": [
    {
     "data": {
      "text/plain": [
       "<AxesSubplot: xlabel='year', ylabel='Sales'>"
      ]
     },
     "execution_count": 24,
     "metadata": {},
     "output_type": "execute_result"
    },
    {
     "data": {
      "image/png": "[encoded data removed]",
      "text/plain": [
       "<Figure size 864x216 with 1 Axes>"
      ]
     },
     "metadata": {
      "needs_background": "light"
     },
     "output_type": "display_data"
    }
   ],
   "source": [
    "plt.figure(figsize=(12,3))\n",
    "sns.lineplot(x=\"year\",y=\"Sales\",data=df_raw)"
   ]
  },
  {
   "cell_type": "markdown",
   "id": "d4d89588",
   "metadata": {},
   "source": [
    "### Moving Average"
   ]
  },
  {
   "cell_type": "code",
   "execution_count": 25,
   "id": "f9297677",
   "metadata": {},
   "outputs": [
    {
     "data": {
      "text/plain": [
       "<matplotlib.legend.Legend at 0x1b75eab9910>"
      ]
     },
     "execution_count": 25,
     "metadata": {},
     "output_type": "execute_result"
    },
    {
     "data": {
      "image/png": "[encoded data removed]",
      "text/plain": [
       "<Figure size 864x288 with 1 Axes>"
      ]
     },
     "metadata": {
      "needs_background": "light"
     },
     "output_type": "display_data"
    }
   ],
   "source": [
    "#Smoothning of the graph\n",
    "plt.figure(figsize=(12,4))\n",
    "df_raw.Sales.plot(label=\"org\")\n",
    "for i in range(3,30,7):\n",
    "    df_raw[\"Sales\"].rolling(i).mean().plot(label=str(i))\n",
    "plt.legend(loc='best')"
   ]
  },
  {
   "cell_type": "markdown",
   "id": "2c551b9e",
   "metadata": {},
   "source": [
    "### Time series decomposition plot"
   ]
  },
  {
   "cell_type": "code",
   "execution_count": 26,
   "id": "65c6a931",
   "metadata": {},
   "outputs": [
    {
     "data": {
      "image/png": "[encoded data removed]",
      "text/plain": [
       "<Figure size 432x288 with 4 Axes>"
      ]
     },
     "metadata": {
      "needs_background": "light"
     },
     "output_type": "display_data"
    }
   ],
   "source": [
    "from statsmodels.tsa.seasonal import seasonal_decompose\n",
    "decompose_ts_add = seasonal_decompose(df_raw.Sales,period=12)\n",
    "decompose_ts_add.plot()\n",
    "plt.show() "
   ]
  },
  {
   "cell_type": "markdown",
   "id": "708e7b3f",
   "metadata": {},
   "source": [
    "#### first graph - original plot\n",
    "#### second graph - trend of the data\n",
    "#### third graph - seasonality of the data\n",
    "#### fourth graph - noise in the data"
   ]
  },
  {
   "cell_type": "markdown",
   "id": "b13891a6",
   "metadata": {},
   "source": [
    "### ACF Plot"
   ]
  },
  {
   "cell_type": "code",
   "execution_count": 27,
   "id": "2c8d2332",
   "metadata": {},
   "outputs": [
    {
     "data": {
      "image/png": "[encoded data removed]",
      "text/plain": [
       "<Figure size 432x288 with 1 Axes>"
      ]
     },
     "metadata": {
      "needs_background": "light"
     },
     "output_type": "display_data"
    }
   ],
   "source": [
    "from statsmodels.graphics.tsaplots import plot_acf,plot_pacf\n",
    "acf = plot_acf(df_raw[\"Sales\"]) "
   ]
  },
  {
   "cell_type": "markdown",
   "id": "742ced3a",
   "metadata": {},
   "source": [
    "### PACF Plot"
   ]
  },
  {
   "cell_type": "code",
   "execution_count": 28,
   "id": "14ed455e",
   "metadata": {},
   "outputs": [
    {
     "name": "stderr",
     "output_type": "stream",
     "text": [
      "C:\\Users\\USER\\anaconda3\\lib\\site-packages\\statsmodels\\graphics\\tsaplots.py:348: FutureWarning: The default method 'yw' can produce PACF values outside of the [-1,1] interval. After 0.13, the default will change tounadjusted Yule-Walker ('ywm'). You can use this method now by setting method='ywm'.\n",
      "  warnings.warn(\n"
     ]
    },
    {
     "data": {
      "image/png": "[encoded data removed]",
      "text/plain": [
       "<Figure size 432x288 with 1 Axes>"
      ]
     },
     "metadata": {
      "needs_background": "light"
     },
     "output_type": "display_data"
    }
   ],
   "source": [
    "pacf = plot_pacf(df_raw[\"Sales\"])   "
   ]
  },
  {
   "cell_type": "markdown",
   "id": "8fba77cb",
   "metadata": {},
   "source": [
    "# Forecasting Model Bsaed Methods"
   ]
  },
  {
   "cell_type": "markdown",
   "id": "f9de7787",
   "metadata": {},
   "source": [
    "### Data preprocessing"
   ]
  },
  {
   "cell_type": "code",
   "execution_count": 29,
   "id": "e0eaa273",
   "metadata": {},
   "outputs": [
    {
     "data": {
      "text/plain": [
       "(42, 9)"
      ]
     },
     "execution_count": 29,
     "metadata": {},
     "output_type": "execute_result"
    }
   ],
   "source": [
    "df_raw.shape"
   ]
  },
  {
   "cell_type": "code",
   "execution_count": 30,
   "id": "39d27d27",
   "metadata": {},
   "outputs": [
    {
     "name": "stdout",
     "output_type": "stream",
     "text": [
      "<class 'pandas.core.frame.DataFrame'>\n",
      "RangeIndex: 42 entries, 0 to 41\n",
      "Data columns (total 9 columns):\n",
      " #   Column    Non-Null Count  Dtype         \n",
      "---  ------    --------------  -----         \n",
      " 0   Sales     42 non-null     float64       \n",
      " 1   Date      42 non-null     datetime64[ns]\n",
      " 2   Quarters  42 non-null     object        \n",
      " 3   Q1        42 non-null     uint8         \n",
      " 4   Q2        42 non-null     uint8         \n",
      " 5   Q3        42 non-null     uint8         \n",
      " 6   Q4        42 non-null     uint8         \n",
      " 7   month     42 non-null     object        \n",
      " 8   year      42 non-null     object        \n",
      "dtypes: datetime64[ns](1), float64(1), object(3), uint8(4)\n",
      "memory usage: 1.9+ KB\n"
     ]
    }
   ],
   "source": [
    "df_raw.info()"
   ]
  },
  {
   "cell_type": "code",
   "execution_count": 31,
   "id": "49b4236d",
   "metadata": {},
   "outputs": [],
   "source": [
    "x=np.arange(1,43)"
   ]
  },
  {
   "cell_type": "code",
   "execution_count": 32,
   "id": "6b158e5e",
   "metadata": {},
   "outputs": [
    {
     "data": {
      "text/plain": [
       "0      1\n",
       "1      2\n",
       "2      3\n",
       "3      4\n",
       "4      5\n",
       "5      6\n",
       "6      7\n",
       "7      8\n",
       "8      9\n",
       "9     10\n",
       "10    11\n",
       "11    12\n",
       "12    13\n",
       "13    14\n",
       "14    15\n",
       "15    16\n",
       "16    17\n",
       "17    18\n",
       "18    19\n",
       "19    20\n",
       "20    21\n",
       "21    22\n",
       "22    23\n",
       "23    24\n",
       "24    25\n",
       "25    26\n",
       "26    27\n",
       "27    28\n",
       "28    29\n",
       "29    30\n",
       "30    31\n",
       "31    32\n",
       "32    33\n",
       "33    34\n",
       "34    35\n",
       "35    36\n",
       "36    37\n",
       "37    38\n",
       "38    39\n",
       "39    40\n",
       "40    41\n",
       "41    42\n",
       "dtype: int32"
      ]
     },
     "execution_count": 32,
     "metadata": {},
     "output_type": "execute_result"
    }
   ],
   "source": [
    "#timesteps\n",
    "t=pd.Series(data=x)\n",
    "t"
   ]
  },
  {
   "cell_type": "code",
   "execution_count": 33,
   "id": "f16a4d13",
   "metadata": {},
   "outputs": [
    {
     "data": {
      "text/plain": [
       "0        1\n",
       "1        4\n",
       "2        9\n",
       "3       16\n",
       "4       25\n",
       "5       36\n",
       "6       49\n",
       "7       64\n",
       "8       81\n",
       "9      100\n",
       "10     121\n",
       "11     144\n",
       "12     169\n",
       "13     196\n",
       "14     225\n",
       "15     256\n",
       "16     289\n",
       "17     324\n",
       "18     361\n",
       "19     400\n",
       "20     441\n",
       "21     484\n",
       "22     529\n",
       "23     576\n",
       "24     625\n",
       "25     676\n",
       "26     729\n",
       "27     784\n",
       "28     841\n",
       "29     900\n",
       "30     961\n",
       "31    1024\n",
       "32    1089\n",
       "33    1156\n",
       "34    1225\n",
       "35    1296\n",
       "36    1369\n",
       "37    1444\n",
       "38    1521\n",
       "39    1600\n",
       "40    1681\n",
       "41    1764\n",
       "dtype: int32"
      ]
     },
     "execution_count": 33,
     "metadata": {},
     "output_type": "execute_result"
    }
   ],
   "source": [
    "#timesteps square values\n",
    "t_sqr=pd.Series(data=(x*x))\n",
    "t_sqr"
   ]
  },
  {
   "cell_type": "code",
   "execution_count": 34,
   "id": "0adc034c",
   "metadata": {},
   "outputs": [],
   "source": [
    "#log of number of passengers\n",
    "df_raw['log_sales'] = np.log(df_raw['Sales'])"
   ]
  },
  {
   "cell_type": "code",
   "execution_count": 35,
   "id": "27c84356",
   "metadata": {},
   "outputs": [],
   "source": [
    "df_raw['t'] = t"
   ]
  },
  {
   "cell_type": "code",
   "execution_count": 36,
   "id": "8a7a35aa",
   "metadata": {},
   "outputs": [],
   "source": [
    "df_raw['t_sqr'] = t_sqr"
   ]
  },
  {
   "cell_type": "code",
   "execution_count": 37,
   "id": "ebc557ac",
   "metadata": {},
   "outputs": [
    {
     "data": {
      "text/html": [
       "<div>\n",
       "<style scoped>\n",
       "    .dataframe tbody tr th:only-of-type {\n",
       "        vertical-align: middle;\n",
       "    }\n",
       "\n",
       "    .dataframe tbody tr th {\n",
       "        vertical-align: top;\n",
       "    }\n",
       "\n",
       "    .dataframe thead th {\n",
       "        text-align: right;\n",
       "    }\n",
       "</style>\n",
       "<table border=\"1\" class=\"dataframe\">\n",
       "  <thead>\n",
       "    <tr style=\"text-align: right;\">\n",
       "      <th></th>\n",
       "      <th>Sales</th>\n",
       "      <th>Date</th>\n",
       "      <th>Quarters</th>\n",
       "      <th>Q1</th>\n",
       "      <th>Q2</th>\n",
       "      <th>Q3</th>\n",
       "      <th>Q4</th>\n",
       "      <th>month</th>\n",
       "      <th>year</th>\n",
       "      <th>log_sales</th>\n",
       "      <th>t</th>\n",
       "      <th>t_sqr</th>\n",
       "    </tr>\n",
       "  </thead>\n",
       "  <tbody>\n",
       "    <tr>\n",
       "      <th>0</th>\n",
       "      <td>1734.827000</td>\n",
       "      <td>1986-01-01</td>\n",
       "      <td>Q1</td>\n",
       "      <td>1</td>\n",
       "      <td>0</td>\n",
       "      <td>0</td>\n",
       "      <td>0</td>\n",
       "      <td>Jan</td>\n",
       "      <td>1986</td>\n",
       "      <td>7.458663</td>\n",
       "      <td>1</td>\n",
       "      <td>1</td>\n",
       "    </tr>\n",
       "    <tr>\n",
       "      <th>1</th>\n",
       "      <td>2244.960999</td>\n",
       "      <td>1986-04-01</td>\n",
       "      <td>Q2</td>\n",
       "      <td>0</td>\n",
       "      <td>1</td>\n",
       "      <td>0</td>\n",
       "      <td>0</td>\n",
       "      <td>Apr</td>\n",
       "      <td>1986</td>\n",
       "      <td>7.716443</td>\n",
       "      <td>2</td>\n",
       "      <td>4</td>\n",
       "    </tr>\n",
       "    <tr>\n",
       "      <th>2</th>\n",
       "      <td>2533.804993</td>\n",
       "      <td>1986-07-01</td>\n",
       "      <td>Q3</td>\n",
       "      <td>0</td>\n",
       "      <td>0</td>\n",
       "      <td>1</td>\n",
       "      <td>0</td>\n",
       "      <td>Jul</td>\n",
       "      <td>1986</td>\n",
       "      <td>7.837477</td>\n",
       "      <td>3</td>\n",
       "      <td>9</td>\n",
       "    </tr>\n",
       "    <tr>\n",
       "      <th>3</th>\n",
       "      <td>2154.962997</td>\n",
       "      <td>1986-10-01</td>\n",
       "      <td>Q4</td>\n",
       "      <td>0</td>\n",
       "      <td>0</td>\n",
       "      <td>0</td>\n",
       "      <td>1</td>\n",
       "      <td>Oct</td>\n",
       "      <td>1986</td>\n",
       "      <td>7.675529</td>\n",
       "      <td>4</td>\n",
       "      <td>16</td>\n",
       "    </tr>\n",
       "    <tr>\n",
       "      <th>4</th>\n",
       "      <td>1547.818996</td>\n",
       "      <td>1987-01-01</td>\n",
       "      <td>Q1</td>\n",
       "      <td>1</td>\n",
       "      <td>0</td>\n",
       "      <td>0</td>\n",
       "      <td>0</td>\n",
       "      <td>Jan</td>\n",
       "      <td>1987</td>\n",
       "      <td>7.344602</td>\n",
       "      <td>5</td>\n",
       "      <td>25</td>\n",
       "    </tr>\n",
       "  </tbody>\n",
       "</table>\n",
       "</div>"
      ],
      "text/plain": [
       "         Sales       Date Quarters  Q1  Q2  Q3  Q4 month  year  log_sales  t  \\\n",
       "0  1734.827000 1986-01-01       Q1   1   0   0   0   Jan  1986   7.458663  1   \n",
       "1  2244.960999 1986-04-01       Q2   0   1   0   0   Apr  1986   7.716443  2   \n",
       "2  2533.804993 1986-07-01       Q3   0   0   1   0   Jul  1986   7.837477  3   \n",
       "3  2154.962997 1986-10-01       Q4   0   0   0   1   Oct  1986   7.675529  4   \n",
       "4  1547.818996 1987-01-01       Q1   1   0   0   0   Jan  1987   7.344602  5   \n",
       "\n",
       "   t_sqr  \n",
       "0      1  \n",
       "1      4  \n",
       "2      9  \n",
       "3     16  \n",
       "4     25  "
      ]
     },
     "execution_count": 37,
     "metadata": {},
     "output_type": "execute_result"
    }
   ],
   "source": [
    "df_raw.head()"
   ]
  },
  {
   "cell_type": "markdown",
   "id": "d8005f43",
   "metadata": {},
   "source": [
    "### Split Train & Test"
   ]
  },
  {
   "cell_type": "code",
   "execution_count": 38,
   "id": "931bb0bc",
   "metadata": {},
   "outputs": [],
   "source": [
    "Train = df_raw.head(30)\n",
    "Test = df_raw.tail(12)"
   ]
  },
  {
   "cell_type": "markdown",
   "id": "d2e318ee",
   "metadata": {},
   "source": [
    "### Model Building"
   ]
  },
  {
   "cell_type": "code",
   "execution_count": 39,
   "id": "71215e3a",
   "metadata": {},
   "outputs": [],
   "source": [
    "def MAE(pred,org):\n",
    "    temp = np.abs((pred-org)/org)\n",
    "    return np.mean(temp)"
   ]
  },
  {
   "cell_type": "code",
   "execution_count": 40,
   "id": "4437c443",
   "metadata": {},
   "outputs": [
    {
     "data": {
      "text/plain": [
       "0.15390960798745937"
      ]
     },
     "execution_count": 40,
     "metadata": {},
     "output_type": "execute_result"
    }
   ],
   "source": [
    "#Linear Model\n",
    "import statsmodels.formula.api as smf \n",
    "\n",
    "linear_model = smf.ols('Sales~t',data=Train).fit()                                                              #Fit the train model\n",
    "pred_linear =  pd.Series(linear_model.predict(pd.DataFrame(Test['t'])))                                              #predict on test data   \n",
    "mae_linear = MAE(Test['Sales'],pred_linear)                                                                     \n",
    "mae_linear"
   ]
  },
  {
   "cell_type": "code",
   "execution_count": 41,
   "id": "d4bb9b3f",
   "metadata": {},
   "outputs": [
    {
     "data": {
      "text/plain": [
       "0.11010762144393449"
      ]
     },
     "execution_count": 41,
     "metadata": {},
     "output_type": "execute_result"
    }
   ],
   "source": [
    "#Exponential\n",
    "\n",
    "Exp = smf.ols('log_sales~t',data=Train).fit()\n",
    "pred_Exp = pd.Series(Exp.predict(pd.DataFrame(Test['t'])))\n",
    "mae_Exp = MAE(Test['Sales'], np.exp(pred_Exp))\n",
    "mae_Exp"
   ]
  },
  {
   "cell_type": "code",
   "execution_count": 42,
   "id": "27955ad5",
   "metadata": {},
   "outputs": [
    {
     "data": {
      "text/plain": [
       "0.10558313155976685"
      ]
     },
     "execution_count": 42,
     "metadata": {},
     "output_type": "execute_result"
    }
   ],
   "source": [
    "#Quadratic \n",
    "\n",
    "Quad = smf.ols('Sales~t+t_sqr',data=Train).fit()\n",
    "pred_Quad = pd.Series(Quad.predict(Test[[\"t\",\"t_sqr\"]]))\n",
    "mae_Quad = MAE(Test['Sales'],pred_Quad)\n",
    "mae_Quad"
   ]
  },
  {
   "cell_type": "code",
   "execution_count": 43,
   "id": "00dc6ec3",
   "metadata": {},
   "outputs": [
    {
     "data": {
      "text/plain": [
       "0.6840229690452245"
      ]
     },
     "execution_count": 43,
     "metadata": {},
     "output_type": "execute_result"
    }
   ],
   "source": [
    "#Additive seasonality \n",
    "\n",
    "add_sea = smf.ols('Sales~Q1+Q2+Q3+Q4',data=Train).fit()\n",
    "pred_add_sea = pd.Series(add_sea.predict(Test[['Q1','Q2','Q3','Q4']]))\n",
    "mae_add_sea = MAE(Test['Sales'],pred_add_sea)\n",
    "mae_add_sea"
   ]
  },
  {
   "cell_type": "code",
   "execution_count": 44,
   "id": "0ef417a5",
   "metadata": {},
   "outputs": [
    {
     "data": {
      "text/plain": [
       "0.10915490303385657"
      ]
     },
     "execution_count": 44,
     "metadata": {},
     "output_type": "execute_result"
    }
   ],
   "source": [
    "#Additive Seasonality Quadratic \n",
    "\n",
    "add_sea_Quad = smf.ols('Sales~t+t_sqr+Q1+Q2+Q3+Q4',data=Train).fit()\n",
    "pred_add_sea_quad = pd.Series(add_sea_Quad.predict(Test[['Q1','Q2','Q3','Q4','t','t_sqr']]))\n",
    "mae_add_sea_quad = MAE(Test['Sales'], pred_add_sea_quad)\n",
    "mae_add_sea_quad"
   ]
  },
  {
   "cell_type": "code",
   "execution_count": 45,
   "id": "b2602452",
   "metadata": {},
   "outputs": [
    {
     "data": {
      "text/plain": [
       "0.7197711999139446"
      ]
     },
     "execution_count": 45,
     "metadata": {},
     "output_type": "execute_result"
    }
   ],
   "source": [
    "##Multiplicative Seasonality\n",
    "\n",
    "Mul_sea = smf.ols('log_sales~Q1+Q2+Q3+Q4',data = Train).fit()\n",
    "pred_Mult_sea = pd.Series(Mul_sea.predict(Test))\n",
    "mae_Mult_sea = MAE(Test['Sales'], np.exp(pred_Mult_sea))\n",
    "mae_Mult_sea"
   ]
  },
  {
   "cell_type": "code",
   "execution_count": 46,
   "id": "6f52e5d0",
   "metadata": {},
   "outputs": [
    {
     "data": {
      "text/plain": [
       "0.09114335527296401"
      ]
     },
     "execution_count": 46,
     "metadata": {},
     "output_type": "execute_result"
    }
   ],
   "source": [
    "#Multiplicative Additive Seasonality \n",
    "\n",
    "Mul_Add_sea = smf.ols('log_sales~t+Q1+Q2+Q3+Q4',data = Train).fit()\n",
    "pred_Mult_add_sea = pd.Series(Mul_Add_sea.predict(Test))\n",
    "mae_Mult_add_sea = MAE(Test['Sales'], np.exp(pred_Mult_add_sea))\n",
    "mae_Mult_add_sea "
   ]
  },
  {
   "cell_type": "markdown",
   "id": "fb3b8b04",
   "metadata": {},
   "source": [
    "# Forecasting by Data Driven Model"
   ]
  },
  {
   "cell_type": "code",
   "execution_count": 47,
   "id": "83aab4af",
   "metadata": {},
   "outputs": [],
   "source": [
    "from statsmodels.tsa.holtwinters import SimpleExpSmoothing # SES\n",
    "from statsmodels.tsa.holtwinters import Holt # Holts Exponential Smoothing\n",
    "from statsmodels.tsa.holtwinters import ExponentialSmoothing"
   ]
  },
  {
   "cell_type": "code",
   "execution_count": 48,
   "id": "6d94eca0",
   "metadata": {},
   "outputs": [
    {
     "data": {
      "text/html": [
       "<div>\n",
       "<style scoped>\n",
       "    .dataframe tbody tr th:only-of-type {\n",
       "        vertical-align: middle;\n",
       "    }\n",
       "\n",
       "    .dataframe tbody tr th {\n",
       "        vertical-align: top;\n",
       "    }\n",
       "\n",
       "    .dataframe thead th {\n",
       "        text-align: right;\n",
       "    }\n",
       "</style>\n",
       "<table border=\"1\" class=\"dataframe\">\n",
       "  <thead>\n",
       "    <tr style=\"text-align: right;\">\n",
       "      <th></th>\n",
       "      <th>Quarter</th>\n",
       "      <th>Sales</th>\n",
       "      <th>Quarter_Year</th>\n",
       "      <th>Date</th>\n",
       "      <th>Quarters</th>\n",
       "    </tr>\n",
       "  </thead>\n",
       "  <tbody>\n",
       "    <tr>\n",
       "      <th>0</th>\n",
       "      <td>Q1_86</td>\n",
       "      <td>1734.827000</td>\n",
       "      <td>Q1 1986</td>\n",
       "      <td>1986-01-01</td>\n",
       "      <td>Q1</td>\n",
       "    </tr>\n",
       "    <tr>\n",
       "      <th>1</th>\n",
       "      <td>Q2_86</td>\n",
       "      <td>2244.960999</td>\n",
       "      <td>Q2 1986</td>\n",
       "      <td>1986-04-01</td>\n",
       "      <td>Q2</td>\n",
       "    </tr>\n",
       "    <tr>\n",
       "      <th>2</th>\n",
       "      <td>Q3_86</td>\n",
       "      <td>2533.804993</td>\n",
       "      <td>Q3 1986</td>\n",
       "      <td>1986-07-01</td>\n",
       "      <td>Q3</td>\n",
       "    </tr>\n",
       "    <tr>\n",
       "      <th>3</th>\n",
       "      <td>Q4_86</td>\n",
       "      <td>2154.962997</td>\n",
       "      <td>Q4 1986</td>\n",
       "      <td>1986-10-01</td>\n",
       "      <td>Q4</td>\n",
       "    </tr>\n",
       "    <tr>\n",
       "      <th>4</th>\n",
       "      <td>Q1_87</td>\n",
       "      <td>1547.818996</td>\n",
       "      <td>Q1 1987</td>\n",
       "      <td>1987-01-01</td>\n",
       "      <td>Q1</td>\n",
       "    </tr>\n",
       "  </tbody>\n",
       "</table>\n",
       "</div>"
      ],
      "text/plain": [
       "  Quarter        Sales Quarter_Year       Date Quarters\n",
       "0   Q1_86  1734.827000      Q1 1986 1986-01-01       Q1\n",
       "1   Q2_86  2244.960999      Q2 1986 1986-04-01       Q2\n",
       "2   Q3_86  2533.804993      Q3 1986 1986-07-01       Q3\n",
       "3   Q4_86  2154.962997      Q4 1986 1986-10-01       Q4\n",
       "4   Q1_87  1547.818996      Q1 1987 1987-01-01       Q1"
      ]
     },
     "execution_count": 48,
     "metadata": {},
     "output_type": "execute_result"
    }
   ],
   "source": [
    "df_coca.head()"
   ]
  },
  {
   "cell_type": "code",
   "execution_count": 49,
   "id": "66f5e2c7",
   "metadata": {},
   "outputs": [],
   "source": [
    "Train = df_coca.head(30)\n",
    "Test = df_coca.tail(12)"
   ]
  },
  {
   "cell_type": "code",
   "execution_count": 50,
   "id": "14771e17",
   "metadata": {},
   "outputs": [
    {
     "data": {
      "text/plain": [
       "0.22046763674416012"
      ]
     },
     "execution_count": 50,
     "metadata": {},
     "output_type": "execute_result"
    }
   ],
   "source": [
    "#Simple Exponential Method\n",
    "ses_model = SimpleExpSmoothing(Train[\"Sales\"]).fit(smoothing_level=0.2)\n",
    "pred_ses = ses_model.predict(start = Test.index[0],end = Test.index[-1])\n",
    "MAE_ses = MAE(pred_ses,Test.Sales) \n",
    "MAE_ses"
   ]
  },
  {
   "cell_type": "code",
   "execution_count": 51,
   "id": "4918ce94",
   "metadata": {},
   "outputs": [
    {
     "name": "stderr",
     "output_type": "stream",
     "text": [
      "C:\\Users\\USER\\AppData\\Local\\Temp/ipykernel_10036/2979547204.py:2: FutureWarning: the 'smoothing_slope'' keyword is deprecated, use 'smoothing_trend' instead\n",
      "  hw_model = Holt(Train[\"Sales\"]).fit(smoothing_level=0.8, smoothing_slope=0.2)\n"
     ]
    },
    {
     "data": {
      "text/plain": [
       "0.11213841767284942"
      ]
     },
     "execution_count": 51,
     "metadata": {},
     "output_type": "execute_result"
    }
   ],
   "source": [
    "# Holt method \n",
    "hw_model = Holt(Train[\"Sales\"]).fit(smoothing_level=0.8, smoothing_slope=0.2)\n",
    "pred_hw = hw_model.predict(start = Test.index[0],end = Test.index[-1])\n",
    "MAE_hw = MAE(pred_hw,Test.Sales) \n",
    "MAE_hw"
   ]
  },
  {
   "cell_type": "code",
   "execution_count": 52,
   "id": "cf426af0",
   "metadata": {},
   "outputs": [
    {
     "data": {
      "text/plain": [
       "0.05321405701012627"
      ]
     },
     "execution_count": 52,
     "metadata": {},
     "output_type": "execute_result"
    }
   ],
   "source": [
    "#Holts winter exponential smoothing with additive seasonality and additive trend\n",
    "hwe_model_add_add = ExponentialSmoothing(Train[\"Sales\"],seasonal=\"add\",trend=\"add\",seasonal_periods=12).fit() #add the trend to the model\n",
    "pred_hwe_add_add = hwe_model_add_add.predict(start = Test.index[0],end = Test.index[-1])\n",
    "MAE__hwe_add_add = MAE(pred_hwe_add_add,Test.Sales) \n",
    "MAE__hwe_add_add"
   ]
  },
  {
   "cell_type": "code",
   "execution_count": 53,
   "id": "2b5aa70f",
   "metadata": {},
   "outputs": [
    {
     "data": {
      "text/plain": [
       "0.09329399697771025"
      ]
     },
     "execution_count": 53,
     "metadata": {},
     "output_type": "execute_result"
    }
   ],
   "source": [
    "#Holts winter exponential smoothing with multiplicative seasonality and additive trend\n",
    "hwe_model_mul_add = ExponentialSmoothing(Train[\"Sales\"],seasonal=\"mul\",trend=\"add\",seasonal_periods=12).fit() \n",
    "pred_hwe_mul_add = hwe_model_mul_add.predict(start = Test.index[0],end = Test.index[-1])\n",
    "MAE__hwe_mul_add = MAE(pred_hwe_mul_add,Test.Sales)\n",
    "MAE__hwe_mul_add"
   ]
  },
  {
   "cell_type": "markdown",
   "id": "014e8b52",
   "metadata": {},
   "source": [
    "# Forecasting by ARIMA Model"
   ]
  },
  {
   "cell_type": "code",
   "execution_count": 54,
   "id": "5a7f578d",
   "metadata": {},
   "outputs": [],
   "source": [
    "from numpy import sqrt\n",
    "import warnings\n",
    "import itertools\n",
    "import statsmodels.api as sm"
   ]
  },
  {
   "cell_type": "code",
   "execution_count": 55,
   "id": "24832ce6",
   "metadata": {},
   "outputs": [
    {
     "data": {
      "text/html": [
       "<div>\n",
       "<style scoped>\n",
       "    .dataframe tbody tr th:only-of-type {\n",
       "        vertical-align: middle;\n",
       "    }\n",
       "\n",
       "    .dataframe tbody tr th {\n",
       "        vertical-align: top;\n",
       "    }\n",
       "\n",
       "    .dataframe thead th {\n",
       "        text-align: right;\n",
       "    }\n",
       "</style>\n",
       "<table border=\"1\" class=\"dataframe\">\n",
       "  <thead>\n",
       "    <tr style=\"text-align: right;\">\n",
       "      <th></th>\n",
       "      <th>Quarter</th>\n",
       "      <th>Sales</th>\n",
       "      <th>Quarter_Year</th>\n",
       "      <th>Date</th>\n",
       "      <th>Quarters</th>\n",
       "    </tr>\n",
       "  </thead>\n",
       "  <tbody>\n",
       "    <tr>\n",
       "      <th>0</th>\n",
       "      <td>Q1_86</td>\n",
       "      <td>1734.827000</td>\n",
       "      <td>Q1 1986</td>\n",
       "      <td>1986-01-01</td>\n",
       "      <td>Q1</td>\n",
       "    </tr>\n",
       "    <tr>\n",
       "      <th>1</th>\n",
       "      <td>Q2_86</td>\n",
       "      <td>2244.960999</td>\n",
       "      <td>Q2 1986</td>\n",
       "      <td>1986-04-01</td>\n",
       "      <td>Q2</td>\n",
       "    </tr>\n",
       "    <tr>\n",
       "      <th>2</th>\n",
       "      <td>Q3_86</td>\n",
       "      <td>2533.804993</td>\n",
       "      <td>Q3 1986</td>\n",
       "      <td>1986-07-01</td>\n",
       "      <td>Q3</td>\n",
       "    </tr>\n",
       "    <tr>\n",
       "      <th>3</th>\n",
       "      <td>Q4_86</td>\n",
       "      <td>2154.962997</td>\n",
       "      <td>Q4 1986</td>\n",
       "      <td>1986-10-01</td>\n",
       "      <td>Q4</td>\n",
       "    </tr>\n",
       "    <tr>\n",
       "      <th>4</th>\n",
       "      <td>Q1_87</td>\n",
       "      <td>1547.818996</td>\n",
       "      <td>Q1 1987</td>\n",
       "      <td>1987-01-01</td>\n",
       "      <td>Q1</td>\n",
       "    </tr>\n",
       "  </tbody>\n",
       "</table>\n",
       "</div>"
      ],
      "text/plain": [
       "  Quarter        Sales Quarter_Year       Date Quarters\n",
       "0   Q1_86  1734.827000      Q1 1986 1986-01-01       Q1\n",
       "1   Q2_86  2244.960999      Q2 1986 1986-04-01       Q2\n",
       "2   Q3_86  2533.804993      Q3 1986 1986-07-01       Q3\n",
       "3   Q4_86  2154.962997      Q4 1986 1986-10-01       Q4\n",
       "4   Q1_87  1547.818996      Q1 1987 1987-01-01       Q1"
      ]
     },
     "execution_count": 55,
     "metadata": {},
     "output_type": "execute_result"
    }
   ],
   "source": [
    "df_coca.head()"
   ]
  },
  {
   "cell_type": "code",
   "execution_count": 56,
   "id": "059d5c35",
   "metadata": {},
   "outputs": [
    {
     "name": "stdout",
     "output_type": "stream",
     "text": [
      "Dataset 30, Validation 12\n"
     ]
    }
   ],
   "source": [
    "# separate out a validation dataset\n",
    "split_point = len(df_coca) - 12\n",
    "dataset, validation = df_coca[0:split_point], df_coca[split_point:]\n",
    "print('Dataset %d, Validation %d' % (len(dataset), len(validation)))"
   ]
  },
  {
   "cell_type": "markdown",
   "id": "726a08ba",
   "metadata": {},
   "source": [
    "### Persistance/Base Model"
   ]
  },
  {
   "cell_type": "code",
   "execution_count": 57,
   "id": "21a21bc6",
   "metadata": {},
   "outputs": [],
   "source": [
    "# evaluate a persistence model\n",
    "from sklearn.metrics import mean_squared_error\n",
    "\n",
    "# prepare data\n",
    "X = dataset.Sales.values\n",
    "X = X.astype('float32')\n",
    "train_size = int(len(X) * 0.50)\n",
    "train, test = X[0:train_size], X[train_size:]"
   ]
  },
  {
   "cell_type": "code",
   "execution_count": 58,
   "id": "d1bf4bdb",
   "metadata": {},
   "outputs": [
    {
     "data": {
      "text/plain": [
       "(15, 15)"
      ]
     },
     "execution_count": 58,
     "metadata": {},
     "output_type": "execute_result"
    }
   ],
   "source": [
    "train.size, test.size"
   ]
  },
  {
   "cell_type": "code",
   "execution_count": 59,
   "id": "3bf0240b",
   "metadata": {},
   "outputs": [
    {
     "name": "stdout",
     "output_type": "stream",
     "text": [
      ">Predicted=2206.550, Expected=2173.968\n",
      ">Predicted=2173.968, Expected=2148.278\n",
      ">Predicted=2148.278, Expected=2739.308\n",
      ">Predicted=2739.308, Expected=2792.754\n",
      ">Predicted=2792.754, Expected=2556.010\n",
      ">Predicted=2556.010, Expected=2480.974\n",
      ">Predicted=2480.974, Expected=3039.523\n",
      ">Predicted=3039.523, Expected=3172.116\n",
      ">Predicted=3172.116, Expected=2879.001\n",
      ">Predicted=2879.001, Expected=2772.000\n",
      ">Predicted=2772.000, Expected=3550.000\n",
      ">Predicted=3550.000, Expected=3508.000\n",
      ">Predicted=3508.000, Expected=3243.860\n",
      ">Predicted=3243.860, Expected=3056.000\n",
      ">Predicted=3056.000, Expected=3899.000\n",
      "MAE_base: 0.089\n"
     ]
    }
   ],
   "source": [
    "# walk-forward validation\n",
    "history = [x for x in train]\n",
    "predictions = list()\n",
    "for i in range(len(test)):\n",
    "    yhat = history[-1]\n",
    "    predictions.append(yhat)\n",
    "    obs = test[i]\n",
    "    history.append(obs)\n",
    "    print('>Predicted=%.3f, Expected=%.3f' % (yhat, obs))\n",
    "# report performance\n",
    "MAE_base = MAE(predictions, test)\n",
    "print('MAE_base: %.3f' % MAE_base)"
   ]
  },
  {
   "cell_type": "markdown",
   "id": "9e9165ab",
   "metadata": {},
   "source": [
    "### ARIMA Model"
   ]
  },
  {
   "cell_type": "code",
   "execution_count": 60,
   "id": "1e1f4540",
   "metadata": {},
   "outputs": [
    {
     "data": {
      "text/html": [
       "<div>\n",
       "<style scoped>\n",
       "    .dataframe tbody tr th:only-of-type {\n",
       "        vertical-align: middle;\n",
       "    }\n",
       "\n",
       "    .dataframe tbody tr th {\n",
       "        vertical-align: top;\n",
       "    }\n",
       "\n",
       "    .dataframe thead th {\n",
       "        text-align: right;\n",
       "    }\n",
       "</style>\n",
       "<table border=\"1\" class=\"dataframe\">\n",
       "  <thead>\n",
       "    <tr style=\"text-align: right;\">\n",
       "      <th></th>\n",
       "      <th>Sales</th>\n",
       "      <th>Date</th>\n",
       "      <th>Quarters</th>\n",
       "      <th>Q1</th>\n",
       "      <th>Q2</th>\n",
       "      <th>Q3</th>\n",
       "      <th>Q4</th>\n",
       "      <th>month</th>\n",
       "      <th>year</th>\n",
       "      <th>log_sales</th>\n",
       "      <th>t</th>\n",
       "      <th>t_sqr</th>\n",
       "    </tr>\n",
       "  </thead>\n",
       "  <tbody>\n",
       "    <tr>\n",
       "      <th>0</th>\n",
       "      <td>1734.827000</td>\n",
       "      <td>1986-01-01</td>\n",
       "      <td>Q1</td>\n",
       "      <td>1</td>\n",
       "      <td>0</td>\n",
       "      <td>0</td>\n",
       "      <td>0</td>\n",
       "      <td>Jan</td>\n",
       "      <td>1986</td>\n",
       "      <td>7.458663</td>\n",
       "      <td>1</td>\n",
       "      <td>1</td>\n",
       "    </tr>\n",
       "    <tr>\n",
       "      <th>1</th>\n",
       "      <td>2244.960999</td>\n",
       "      <td>1986-04-01</td>\n",
       "      <td>Q2</td>\n",
       "      <td>0</td>\n",
       "      <td>1</td>\n",
       "      <td>0</td>\n",
       "      <td>0</td>\n",
       "      <td>Apr</td>\n",
       "      <td>1986</td>\n",
       "      <td>7.716443</td>\n",
       "      <td>2</td>\n",
       "      <td>4</td>\n",
       "    </tr>\n",
       "    <tr>\n",
       "      <th>2</th>\n",
       "      <td>2533.804993</td>\n",
       "      <td>1986-07-01</td>\n",
       "      <td>Q3</td>\n",
       "      <td>0</td>\n",
       "      <td>0</td>\n",
       "      <td>1</td>\n",
       "      <td>0</td>\n",
       "      <td>Jul</td>\n",
       "      <td>1986</td>\n",
       "      <td>7.837477</td>\n",
       "      <td>3</td>\n",
       "      <td>9</td>\n",
       "    </tr>\n",
       "    <tr>\n",
       "      <th>3</th>\n",
       "      <td>2154.962997</td>\n",
       "      <td>1986-10-01</td>\n",
       "      <td>Q4</td>\n",
       "      <td>0</td>\n",
       "      <td>0</td>\n",
       "      <td>0</td>\n",
       "      <td>1</td>\n",
       "      <td>Oct</td>\n",
       "      <td>1986</td>\n",
       "      <td>7.675529</td>\n",
       "      <td>4</td>\n",
       "      <td>16</td>\n",
       "    </tr>\n",
       "    <tr>\n",
       "      <th>4</th>\n",
       "      <td>1547.818996</td>\n",
       "      <td>1987-01-01</td>\n",
       "      <td>Q1</td>\n",
       "      <td>1</td>\n",
       "      <td>0</td>\n",
       "      <td>0</td>\n",
       "      <td>0</td>\n",
       "      <td>Jan</td>\n",
       "      <td>1987</td>\n",
       "      <td>7.344602</td>\n",
       "      <td>5</td>\n",
       "      <td>25</td>\n",
       "    </tr>\n",
       "  </tbody>\n",
       "</table>\n",
       "</div>"
      ],
      "text/plain": [
       "         Sales       Date Quarters  Q1  Q2  Q3  Q4 month  year  log_sales  t  \\\n",
       "0  1734.827000 1986-01-01       Q1   1   0   0   0   Jan  1986   7.458663  1   \n",
       "1  2244.960999 1986-04-01       Q2   0   1   0   0   Apr  1986   7.716443  2   \n",
       "2  2533.804993 1986-07-01       Q3   0   0   1   0   Jul  1986   7.837477  3   \n",
       "3  2154.962997 1986-10-01       Q4   0   0   0   1   Oct  1986   7.675529  4   \n",
       "4  1547.818996 1987-01-01       Q1   1   0   0   0   Jan  1987   7.344602  5   \n",
       "\n",
       "   t_sqr  \n",
       "0      1  \n",
       "1      4  \n",
       "2      9  \n",
       "3     16  \n",
       "4     25  "
      ]
     },
     "execution_count": 60,
     "metadata": {},
     "output_type": "execute_result"
    }
   ],
   "source": [
    "df_raw.head()"
   ]
  },
  {
   "cell_type": "code",
   "execution_count": 61,
   "id": "81b417d6",
   "metadata": {},
   "outputs": [],
   "source": [
    "df_raw.drop(['Quarters', 'Q1', 'Q2', 'Q3', 'Q4','month','year','log_sales','t','t_sqr'], axis=1, inplace=True)"
   ]
  },
  {
   "cell_type": "code",
   "execution_count": 62,
   "id": "b70c00c0",
   "metadata": {},
   "outputs": [
    {
     "data": {
      "text/html": [
       "<div>\n",
       "<style scoped>\n",
       "    .dataframe tbody tr th:only-of-type {\n",
       "        vertical-align: middle;\n",
       "    }\n",
       "\n",
       "    .dataframe tbody tr th {\n",
       "        vertical-align: top;\n",
       "    }\n",
       "\n",
       "    .dataframe thead th {\n",
       "        text-align: right;\n",
       "    }\n",
       "</style>\n",
       "<table border=\"1\" class=\"dataframe\">\n",
       "  <thead>\n",
       "    <tr style=\"text-align: right;\">\n",
       "      <th></th>\n",
       "      <th>Sales</th>\n",
       "      <th>Date</th>\n",
       "    </tr>\n",
       "  </thead>\n",
       "  <tbody>\n",
       "    <tr>\n",
       "      <th>0</th>\n",
       "      <td>1734.827000</td>\n",
       "      <td>1986-01-01</td>\n",
       "    </tr>\n",
       "    <tr>\n",
       "      <th>1</th>\n",
       "      <td>2244.960999</td>\n",
       "      <td>1986-04-01</td>\n",
       "    </tr>\n",
       "    <tr>\n",
       "      <th>2</th>\n",
       "      <td>2533.804993</td>\n",
       "      <td>1986-07-01</td>\n",
       "    </tr>\n",
       "    <tr>\n",
       "      <th>3</th>\n",
       "      <td>2154.962997</td>\n",
       "      <td>1986-10-01</td>\n",
       "    </tr>\n",
       "    <tr>\n",
       "      <th>4</th>\n",
       "      <td>1547.818996</td>\n",
       "      <td>1987-01-01</td>\n",
       "    </tr>\n",
       "  </tbody>\n",
       "</table>\n",
       "</div>"
      ],
      "text/plain": [
       "         Sales       Date\n",
       "0  1734.827000 1986-01-01\n",
       "1  2244.960999 1986-04-01\n",
       "2  2533.804993 1986-07-01\n",
       "3  2154.962997 1986-10-01\n",
       "4  1547.818996 1987-01-01"
      ]
     },
     "execution_count": 62,
     "metadata": {},
     "output_type": "execute_result"
    }
   ],
   "source": [
    "df_raw.head()"
   ]
  },
  {
   "cell_type": "code",
   "execution_count": 63,
   "id": "184ec0b9",
   "metadata": {},
   "outputs": [],
   "source": [
    "df_raw.set_index('Date', inplace=True)"
   ]
  },
  {
   "cell_type": "code",
   "execution_count": 64,
   "id": "7ed3d763",
   "metadata": {},
   "outputs": [],
   "source": [
    "#performing test to check whether data is stationary or not\n",
    "from statsmodels.tsa.stattools import adfuller\n",
    "\n",
    "def adf_test(series):\n",
    "    result=adfuller(series)\n",
    "    print('ADF Statistics: {}'.format(result[0]))\n",
    "    print('p- value: {}'.format(result[1]))\n",
    "    if result[1] <= 0.05:\n",
    "        print(\"strong evidence against the null hypothesis, reject the null hypothesis. Data has no unit root and is stationary\")\n",
    "    else:\n",
    "        print(\"weak evidence against null hypothesis, time series has a unit root, indicating it is non-stationary \")"
   ]
  },
  {
   "cell_type": "code",
   "execution_count": 65,
   "id": "d9f78ae9",
   "metadata": {},
   "outputs": [
    {
     "name": "stdout",
     "output_type": "stream",
     "text": [
      "ADF Statistics: 1.3094210153268104\n",
      "p- value: 0.9966611673930905\n",
      "weak evidence against null hypothesis, time series has a unit root, indicating it is non-stationary \n"
     ]
    }
   ],
   "source": [
    "adf_test(df_raw['Sales'])"
   ]
  },
  {
   "cell_type": "code",
   "execution_count": 66,
   "id": "2264884f",
   "metadata": {},
   "outputs": [],
   "source": [
    "# Use Techniques Differencing 1st time\n",
    "df_raw['Sales First Difference']=df_raw['Sales']-df_raw['Sales'].shift(1)"
   ]
  },
  {
   "cell_type": "code",
   "execution_count": 67,
   "id": "e1a78977",
   "metadata": {},
   "outputs": [
    {
     "name": "stdout",
     "output_type": "stream",
     "text": [
      "ADF Statistics: -2.5015370020337997\n",
      "p- value: 0.11510080332405515\n",
      "weak evidence against null hypothesis, time series has a unit root, indicating it is non-stationary \n"
     ]
    }
   ],
   "source": [
    "adf_test(df_raw['Sales First Difference'].dropna())"
   ]
  },
  {
   "cell_type": "code",
   "execution_count": 68,
   "id": "494db212",
   "metadata": {},
   "outputs": [],
   "source": [
    "## Use Techniques Differencing 2nd time\n",
    "df_raw['Sales Second Difference']=df_raw['Sales First Difference']-df_raw['Sales First Difference'].shift(1)"
   ]
  },
  {
   "cell_type": "code",
   "execution_count": 69,
   "id": "5983f947",
   "metadata": {},
   "outputs": [
    {
     "name": "stdout",
     "output_type": "stream",
     "text": [
      "ADF Statistics: -27.63262494638169\n",
      "p- value: 0.0\n",
      "strong evidence against the null hypothesis, reject the null hypothesis. Data has no unit root and is stationary\n"
     ]
    }
   ],
   "source": [
    "adf_test(df_raw['Sales Second Difference'].dropna())"
   ]
  },
  {
   "cell_type": "markdown",
   "id": "0e0e092f",
   "metadata": {},
   "source": [
    "#### We can perform ARIMA on Sales Second Difference data as this is stationary"
   ]
  },
  {
   "cell_type": "code",
   "execution_count": 70,
   "id": "91052f02",
   "metadata": {},
   "outputs": [
    {
     "data": {
      "image/png": "[encoded data removed]",
      "text/plain": [
       "<Figure size 432x288 with 1 Axes>"
      ]
     },
     "metadata": {
      "needs_background": "light"
     },
     "output_type": "display_data"
    }
   ],
   "source": [
    "acf = plot_acf(df_raw[\"Sales Second Difference\"].dropna())  "
   ]
  },
  {
   "cell_type": "code",
   "execution_count": 71,
   "id": "1a244af3",
   "metadata": {},
   "outputs": [
    {
     "name": "stderr",
     "output_type": "stream",
     "text": [
      "C:\\Users\\USER\\anaconda3\\lib\\site-packages\\statsmodels\\graphics\\tsaplots.py:348: FutureWarning: The default method 'yw' can produce PACF values outside of the [-1,1] interval. After 0.13, the default will change tounadjusted Yule-Walker ('ywm'). You can use this method now by setting method='ywm'.\n",
      "  warnings.warn(\n"
     ]
    },
    {
     "data": {
      "image/png": "[encoded data removed]",
      "text/plain": [
       "<Figure size 432x288 with 1 Axes>"
      ]
     },
     "metadata": {
      "needs_background": "light"
     },
     "output_type": "display_data"
    }
   ],
   "source": [
    "pacf = plot_pacf(df_raw[\"Sales Second Difference\"].dropna()) "
   ]
  },
  {
   "cell_type": "code",
   "execution_count": 74,
   "id": "8c9e4b48",
   "metadata": {},
   "outputs": [],
   "source": [
    "# grid search ARIMA parameters for a time series\n",
    "\n",
    "import warnings\n",
    "from pandas import read_csv\n",
    "from statsmodels.tsa.statespace.sarimax import SARIMAX\n",
    "\n",
    "\n",
    "# evaluate an ARIMA model for a given order (p,d,q) and return RMSE\n",
    "def evaluate_arima_model(X, arima_order):\n",
    "# prepare training dataset\n",
    "    X = X.astype('float32')\n",
    "    train_size = int(len(X) * 0.50)\n",
    "    train, test = X[0:train_size], X[train_size:]\n",
    "    history = [x for x in train]\n",
    "# make predictions\n",
    "    predictions = list()\n",
    "    for t in range(len(test)):\n",
    "        model = ARIMA(history, order=arima_order)\n",
    "        model_fit = model.fit(disp=0)\n",
    "        yhat = model_fit.forecast()[0]\n",
    "        predictions.append(yhat)\n",
    "        history.append(test[t])\n",
    "        MAE = np.mean(np.abs((predictions-test)/test))\n",
    "        return MAE"
   ]
  },
  {
   "cell_type": "code",
   "execution_count": 75,
   "id": "32df830f",
   "metadata": {},
   "outputs": [],
   "source": [
    "# evaluate combinations of p, d and q values for an ARIMA model\n",
    "def evaluate_models(dataset, p_values, d_values, q_values):\n",
    "    dataset = dataset.astype('float32')\n",
    "    best_score, best_cfg = float('inf'), None\n",
    "    for p in p_values:\n",
    "        for d in d_values:\n",
    "            for q in q_values:\n",
    "                order = (p,d,q)\n",
    "                try:\n",
    "                    MAE = evaluate_arima_model(train, order)\n",
    "                    if MAE < best_score:\n",
    "                        best_score, best_cfg = MAE, order\n",
    "                    print('ARIMA%s MAE=%.3f' % (order,MAE))\n",
    "                except:\n",
    "                    continue\n",
    "    print('Best ARIMA%s MAE=%.3f' % (best_cfg, best_score))"
   ]
  },
  {
   "cell_type": "code",
   "execution_count": 76,
   "id": "f4bb632b",
   "metadata": {},
   "outputs": [
    {
     "data": {
      "text/html": [
       "<div>\n",
       "<style scoped>\n",
       "    .dataframe tbody tr th:only-of-type {\n",
       "        vertical-align: middle;\n",
       "    }\n",
       "\n",
       "    .dataframe tbody tr th {\n",
       "        vertical-align: top;\n",
       "    }\n",
       "\n",
       "    .dataframe thead th {\n",
       "        text-align: right;\n",
       "    }\n",
       "</style>\n",
       "<table border=\"1\" class=\"dataframe\">\n",
       "  <thead>\n",
       "    <tr style=\"text-align: right;\">\n",
       "      <th></th>\n",
       "      <th>Sales</th>\n",
       "      <th>Sales First Difference</th>\n",
       "      <th>Sales Second Difference</th>\n",
       "    </tr>\n",
       "    <tr>\n",
       "      <th>Date</th>\n",
       "      <th></th>\n",
       "      <th></th>\n",
       "      <th></th>\n",
       "    </tr>\n",
       "  </thead>\n",
       "  <tbody>\n",
       "    <tr>\n",
       "      <th>1995-04-01</th>\n",
       "      <td>4936.0</td>\n",
       "      <td>1082.0</td>\n",
       "      <td>1245.0</td>\n",
       "    </tr>\n",
       "    <tr>\n",
       "      <th>1995-07-01</th>\n",
       "      <td>4895.0</td>\n",
       "      <td>-41.0</td>\n",
       "      <td>-1123.0</td>\n",
       "    </tr>\n",
       "    <tr>\n",
       "      <th>1995-10-01</th>\n",
       "      <td>4333.0</td>\n",
       "      <td>-562.0</td>\n",
       "      <td>-521.0</td>\n",
       "    </tr>\n",
       "    <tr>\n",
       "      <th>1996-01-01</th>\n",
       "      <td>4194.0</td>\n",
       "      <td>-139.0</td>\n",
       "      <td>423.0</td>\n",
       "    </tr>\n",
       "    <tr>\n",
       "      <th>1996-04-01</th>\n",
       "      <td>5253.0</td>\n",
       "      <td>1059.0</td>\n",
       "      <td>1198.0</td>\n",
       "    </tr>\n",
       "  </tbody>\n",
       "</table>\n",
       "</div>"
      ],
      "text/plain": [
       "             Sales  Sales First Difference  Sales Second Difference\n",
       "Date                                                               \n",
       "1995-04-01  4936.0                  1082.0                   1245.0\n",
       "1995-07-01  4895.0                   -41.0                  -1123.0\n",
       "1995-10-01  4333.0                  -562.0                   -521.0\n",
       "1996-01-01  4194.0                  -139.0                    423.0\n",
       "1996-04-01  5253.0                  1059.0                   1198.0"
      ]
     },
     "execution_count": 76,
     "metadata": {},
     "output_type": "execute_result"
    }
   ],
   "source": [
    "df_raw.tail()"
   ]
  },
  {
   "cell_type": "code",
   "execution_count": 77,
   "id": "493aa7bc",
   "metadata": {},
   "outputs": [],
   "source": [
    "from datetime import datetime,timedelta\n",
    "train_dataset_end=datetime(1994,1,1)\n",
    "test_dataset_end=datetime(1996,4,1)"
   ]
  },
  {
   "cell_type": "code",
   "execution_count": 78,
   "id": "bebcca10",
   "metadata": {},
   "outputs": [],
   "source": [
    "train_data=df_raw[:train_dataset_end]\n",
    "test_data=df_raw[train_dataset_end+timedelta(days=1):test_dataset_end]"
   ]
  },
  {
   "cell_type": "code",
   "execution_count": 81,
   "id": "ff8cf89e",
   "metadata": {},
   "outputs": [
    {
     "name": "stdout",
     "output_type": "stream",
     "text": [
      "Wall time: 0 ns\n",
      "Best ARIMANone MAE=inf\n"
     ]
    }
   ],
   "source": [
    "# load dataset\n",
    "%time\n",
    "\n",
    "# evaluate parameters\n",
    "p_values = range(0, 10)\n",
    "d_values = range(0, 10)\n",
    "q_values = range(0, 10)\n",
    "warnings.filterwarnings(\"ignore\")\n",
    "evaluate_models(train_data['Sales Second Difference'].dropna(), p_values, d_values, q_values)"
   ]
  },
  {
   "cell_type": "code",
   "execution_count": 82,
   "id": "5339408a",
   "metadata": {},
   "outputs": [],
   "source": [
    "from statsmodels.tsa.arima_model import ARIMA\n",
    "X = train_data.Sales.values\n",
    "X = X.astype('float32')"
   ]
  },
  {
   "cell_type": "code",
   "execution_count": 84,
   "id": "e1e36351",
   "metadata": {},
   "outputs": [
    {
     "data": {
      "text/plain": [
       "3198.825413287107"
      ]
     },
     "execution_count": 84,
     "metadata": {},
     "output_type": "execute_result"
    }
   ],
   "source": [
    "# fit model on train data\n",
    "model = SARIMAX(X, order=(2, 2, 0))\n",
    "model_fit = model.fit()\n",
    "forecast=model_fit.forecast(steps=9)[0]\n",
    "forecast"
   ]
  },
  {
   "cell_type": "code",
   "execution_count": 85,
   "id": "139b111d",
   "metadata": {},
   "outputs": [
    {
     "data": {
      "text/plain": [
       "Date\n",
       "1994-04-01    4342.0\n",
       "1994-07-01    4461.0\n",
       "1994-10-01    4017.0\n",
       "1995-01-01    3854.0\n",
       "1995-04-01    4936.0\n",
       "1995-07-01    4895.0\n",
       "1995-10-01    4333.0\n",
       "1996-01-01    4194.0\n",
       "1996-04-01    5253.0\n",
       "Name: Sales, dtype: float64"
      ]
     },
     "execution_count": 85,
     "metadata": {},
     "output_type": "execute_result"
    }
   ],
   "source": [
    "test_data.Sales"
   ]
  },
  {
   "cell_type": "code",
   "execution_count": 86,
   "id": "cefad641",
   "metadata": {},
   "outputs": [
    {
     "data": {
      "text/html": [
       "<table class=\"simpletable\">\n",
       "<caption>SARIMAX Results</caption>\n",
       "<tr>\n",
       "  <th>Dep. Variable:</th>           <td>y</td>        <th>  No. Observations:  </th>    <td>33</td>   \n",
       "</tr>\n",
       "<tr>\n",
       "  <th>Model:</th>           <td>SARIMAX(2, 2, 0)</td> <th>  Log Likelihood     </th> <td>-233.401</td>\n",
       "</tr>\n",
       "<tr>\n",
       "  <th>Date:</th>            <td>Mon, 24 Oct 2022</td> <th>  AIC                </th>  <td>472.802</td>\n",
       "</tr>\n",
       "<tr>\n",
       "  <th>Time:</th>                <td>18:16:29</td>     <th>  BIC                </th>  <td>477.104</td>\n",
       "</tr>\n",
       "<tr>\n",
       "  <th>Sample:</th>                  <td>0</td>        <th>  HQIC               </th>  <td>474.205</td>\n",
       "</tr>\n",
       "<tr>\n",
       "  <th></th>                       <td> - 33</td>      <th>                     </th>     <td> </td>   \n",
       "</tr>\n",
       "<tr>\n",
       "  <th>Covariance Type:</th>        <td>opg</td>       <th>                     </th>     <td> </td>   \n",
       "</tr>\n",
       "</table>\n",
       "<table class=\"simpletable\">\n",
       "<tr>\n",
       "     <td></td>       <th>coef</th>     <th>std err</th>      <th>z</th>      <th>P>|z|</th>  <th>[0.025</th>    <th>0.975]</th>  \n",
       "</tr>\n",
       "<tr>\n",
       "  <th>ar.L1</th>  <td>   -0.5353</td> <td>    0.204</td> <td>   -2.630</td> <td> 0.009</td> <td>   -0.934</td> <td>   -0.136</td>\n",
       "</tr>\n",
       "<tr>\n",
       "  <th>ar.L2</th>  <td>   -0.4561</td> <td>    0.208</td> <td>   -2.191</td> <td> 0.028</td> <td>   -0.864</td> <td>   -0.048</td>\n",
       "</tr>\n",
       "<tr>\n",
       "  <th>sigma2</th> <td> 1.912e+05</td> <td> 6.61e+04</td> <td>    2.891</td> <td> 0.004</td> <td> 6.16e+04</td> <td> 3.21e+05</td>\n",
       "</tr>\n",
       "</table>\n",
       "<table class=\"simpletable\">\n",
       "<tr>\n",
       "  <th>Ljung-Box (L1) (Q):</th>     <td>3.69</td> <th>  Jarque-Bera (JB):  </th> <td>3.27</td>\n",
       "</tr>\n",
       "<tr>\n",
       "  <th>Prob(Q):</th>                <td>0.05</td> <th>  Prob(JB):          </th> <td>0.20</td>\n",
       "</tr>\n",
       "<tr>\n",
       "  <th>Heteroskedasticity (H):</th> <td>1.05</td> <th>  Skew:              </th> <td>0.77</td>\n",
       "</tr>\n",
       "<tr>\n",
       "  <th>Prob(H) (two-sided):</th>    <td>0.94</td> <th>  Kurtosis:          </th> <td>2.59</td>\n",
       "</tr>\n",
       "</table><br/><br/>Warnings:<br/>[1] Covariance matrix calculated using the outer product of gradients (complex-step)."
      ],
      "text/plain": [
       "<class 'statsmodels.iolib.summary.Summary'>\n",
       "\"\"\"\n",
       "                               SARIMAX Results                                \n",
       "==============================================================================\n",
       "Dep. Variable:                      y   No. Observations:                   33\n",
       "Model:               SARIMAX(2, 2, 0)   Log Likelihood                -233.401\n",
       "Date:                Mon, 24 Oct 2022   AIC                            472.802\n",
       "Time:                        18:16:29   BIC                            477.104\n",
       "Sample:                             0   HQIC                           474.205\n",
       "                                 - 33                                         \n",
       "Covariance Type:                  opg                                         \n",
       "==============================================================================\n",
       "                 coef    std err          z      P>|z|      [0.025      0.975]\n",
       "------------------------------------------------------------------------------\n",
       "ar.L1         -0.5353      0.204     -2.630      0.009      -0.934      -0.136\n",
       "ar.L2         -0.4561      0.208     -2.191      0.028      -0.864      -0.048\n",
       "sigma2      1.912e+05   6.61e+04      2.891      0.004    6.16e+04    3.21e+05\n",
       "===================================================================================\n",
       "Ljung-Box (L1) (Q):                   3.69   Jarque-Bera (JB):                 3.27\n",
       "Prob(Q):                              0.05   Prob(JB):                         0.20\n",
       "Heteroskedasticity (H):               1.05   Skew:                             0.77\n",
       "Prob(H) (two-sided):                  0.94   Kurtosis:                         2.59\n",
       "===================================================================================\n",
       "\n",
       "Warnings:\n",
       "[1] Covariance matrix calculated using the outer product of gradients (complex-step).\n",
       "\"\"\""
      ]
     },
     "execution_count": 86,
     "metadata": {},
     "output_type": "execute_result"
    }
   ],
   "source": [
    "model_fit.summary()"
   ]
  },
  {
   "cell_type": "code",
   "execution_count": 87,
   "id": "9756cee5",
   "metadata": {},
   "outputs": [
    {
     "data": {
      "text/plain": [
       "0.2787146950735632"
      ]
     },
     "execution_count": 87,
     "metadata": {},
     "output_type": "execute_result"
    }
   ],
   "source": [
    "#Error on the test data\n",
    "MAE_ARIMA = MAE(forecast, test_data.Sales)\n",
    "MAE_ARIMA"
   ]
  },
  {
   "cell_type": "code",
   "execution_count": 88,
   "id": "7ffcef65",
   "metadata": {},
   "outputs": [
    {
     "data": {
      "text/html": [
       "<div>\n",
       "<style scoped>\n",
       "    .dataframe tbody tr th:only-of-type {\n",
       "        vertical-align: middle;\n",
       "    }\n",
       "\n",
       "    .dataframe tbody tr th {\n",
       "        vertical-align: top;\n",
       "    }\n",
       "\n",
       "    .dataframe thead th {\n",
       "        text-align: right;\n",
       "    }\n",
       "</style>\n",
       "<table border=\"1\" class=\"dataframe\">\n",
       "  <thead>\n",
       "    <tr style=\"text-align: right;\">\n",
       "      <th></th>\n",
       "      <th>MODEL</th>\n",
       "      <th>MAE_Values</th>\n",
       "    </tr>\n",
       "  </thead>\n",
       "  <tbody>\n",
       "    <tr>\n",
       "      <th>9</th>\n",
       "      <td>MAE_hwe_add_add</td>\n",
       "      <td>0.053214</td>\n",
       "    </tr>\n",
       "    <tr>\n",
       "      <th>11</th>\n",
       "      <td>MAE_base</td>\n",
       "      <td>0.089395</td>\n",
       "    </tr>\n",
       "    <tr>\n",
       "      <th>6</th>\n",
       "      <td>MAE_Mult_add_sea</td>\n",
       "      <td>0.091143</td>\n",
       "    </tr>\n",
       "    <tr>\n",
       "      <th>10</th>\n",
       "      <td>MAE_hwe_mul_add</td>\n",
       "      <td>0.093294</td>\n",
       "    </tr>\n",
       "    <tr>\n",
       "      <th>2</th>\n",
       "      <td>MAE_Quad</td>\n",
       "      <td>0.105583</td>\n",
       "    </tr>\n",
       "    <tr>\n",
       "      <th>4</th>\n",
       "      <td>MAE_add_sea_quad</td>\n",
       "      <td>0.109155</td>\n",
       "    </tr>\n",
       "    <tr>\n",
       "      <th>1</th>\n",
       "      <td>MAE_Exp</td>\n",
       "      <td>0.110108</td>\n",
       "    </tr>\n",
       "    <tr>\n",
       "      <th>8</th>\n",
       "      <td>MAE_hw</td>\n",
       "      <td>0.112138</td>\n",
       "    </tr>\n",
       "    <tr>\n",
       "      <th>0</th>\n",
       "      <td>MAE_linear</td>\n",
       "      <td>0.153910</td>\n",
       "    </tr>\n",
       "    <tr>\n",
       "      <th>7</th>\n",
       "      <td>MAE_ses</td>\n",
       "      <td>0.220468</td>\n",
       "    </tr>\n",
       "    <tr>\n",
       "      <th>12</th>\n",
       "      <td>MAE_ARIMA</td>\n",
       "      <td>0.278715</td>\n",
       "    </tr>\n",
       "    <tr>\n",
       "      <th>3</th>\n",
       "      <td>MAE_add_sea</td>\n",
       "      <td>0.684023</td>\n",
       "    </tr>\n",
       "    <tr>\n",
       "      <th>5</th>\n",
       "      <td>MAE_Mult_sea</td>\n",
       "      <td>0.719771</td>\n",
       "    </tr>\n",
       "  </tbody>\n",
       "</table>\n",
       "</div>"
      ],
      "text/plain": [
       "               MODEL  MAE_Values\n",
       "9    MAE_hwe_add_add    0.053214\n",
       "11          MAE_base    0.089395\n",
       "6   MAE_Mult_add_sea    0.091143\n",
       "10   MAE_hwe_mul_add    0.093294\n",
       "2           MAE_Quad    0.105583\n",
       "4   MAE_add_sea_quad    0.109155\n",
       "1            MAE_Exp    0.110108\n",
       "8             MAE_hw    0.112138\n",
       "0         MAE_linear    0.153910\n",
       "7            MAE_ses    0.220468\n",
       "12         MAE_ARIMA    0.278715\n",
       "3        MAE_add_sea    0.684023\n",
       "5       MAE_Mult_sea    0.719771"
      ]
     },
     "execution_count": 88,
     "metadata": {},
     "output_type": "execute_result"
    }
   ],
   "source": [
    "#Compare the results \n",
    "\n",
    "data = {\"MODEL\":pd.Series([\"MAE_linear\",\"MAE_Exp\",\"MAE_Quad\",\"MAE_add_sea\",\"MAE_add_sea_quad\",\"MAE_Mult_sea\",\"MAE_Mult_add_sea\",\"MAE_ses\",\"MAE_hw\",\"MAE_hwe_add_add\",\"MAE_hwe_mul_add\",\"MAE_base\",\"MAE_ARIMA\"]),\"MAE_Values\":pd.Series([mae_linear,mae_Exp,mae_Quad,mae_add_sea,mae_add_sea_quad,mae_Mult_sea,mae_Mult_add_sea,MAE_ses,MAE_hw,MAE__hwe_add_add,MAE__hwe_mul_add,MAE_base,MAE_ARIMA])}\n",
    "table_mae=pd.DataFrame(data)\n",
    "table_mae.sort_values(['MAE_Values'])"
   ]
  },
  {
   "cell_type": "markdown",
   "id": "f44b39f9",
   "metadata": {},
   "source": [
    "#### Holts winter exponential smoothing with multiplicative seasonality and additive trend giving us best results as the Test MAE is the lowest for this data.\n",
    "#### Let us build a model and forecast for quarters of Q3 96 - Q3 06."
   ]
  },
  {
   "cell_type": "markdown",
   "id": "334ee9f5",
   "metadata": {},
   "source": [
    "### Prediction on new data"
   ]
  },
  {
   "cell_type": "code",
   "execution_count": 89,
   "id": "9c24e63c",
   "metadata": {},
   "outputs": [],
   "source": [
    "Test = df_coca.tail(12)"
   ]
  },
  {
   "cell_type": "code",
   "execution_count": 90,
   "id": "e3b5c42d",
   "metadata": {},
   "outputs": [],
   "source": [
    "Test.to_csv('predict_data_coca.csv')\n",
    "#Editted the test data a little to forecast passengers for year 2003"
   ]
  },
  {
   "cell_type": "code",
   "execution_count": 92,
   "id": "98161570",
   "metadata": {},
   "outputs": [
    {
     "data": {
      "text/html": [
       "<div>\n",
       "<style scoped>\n",
       "    .dataframe tbody tr th:only-of-type {\n",
       "        vertical-align: middle;\n",
       "    }\n",
       "\n",
       "    .dataframe tbody tr th {\n",
       "        vertical-align: top;\n",
       "    }\n",
       "\n",
       "    .dataframe thead th {\n",
       "        text-align: right;\n",
       "    }\n",
       "</style>\n",
       "<table border=\"1\" class=\"dataframe\">\n",
       "  <thead>\n",
       "    <tr style=\"text-align: right;\">\n",
       "      <th></th>\n",
       "      <th>Unnamed: 0</th>\n",
       "      <th>Quarter</th>\n",
       "      <th>Sales</th>\n",
       "      <th>Quarter_Year</th>\n",
       "      <th>Date</th>\n",
       "      <th>Quarters</th>\n",
       "    </tr>\n",
       "  </thead>\n",
       "  <tbody>\n",
       "    <tr>\n",
       "      <th>0</th>\n",
       "      <td>30</td>\n",
       "      <td>Q3_93</td>\n",
       "      <td>3629.0</td>\n",
       "      <td>Q3 1993</td>\n",
       "      <td>1993-07-01</td>\n",
       "      <td>Q3</td>\n",
       "    </tr>\n",
       "    <tr>\n",
       "      <th>1</th>\n",
       "      <td>31</td>\n",
       "      <td>Q4_93</td>\n",
       "      <td>3373.0</td>\n",
       "      <td>Q4 1993</td>\n",
       "      <td>1993-10-01</td>\n",
       "      <td>Q4</td>\n",
       "    </tr>\n",
       "    <tr>\n",
       "      <th>2</th>\n",
       "      <td>32</td>\n",
       "      <td>Q1_94</td>\n",
       "      <td>3352.0</td>\n",
       "      <td>Q1 1994</td>\n",
       "      <td>1994-01-01</td>\n",
       "      <td>Q1</td>\n",
       "    </tr>\n",
       "    <tr>\n",
       "      <th>3</th>\n",
       "      <td>33</td>\n",
       "      <td>Q2_94</td>\n",
       "      <td>4342.0</td>\n",
       "      <td>Q2 1994</td>\n",
       "      <td>1994-04-01</td>\n",
       "      <td>Q2</td>\n",
       "    </tr>\n",
       "    <tr>\n",
       "      <th>4</th>\n",
       "      <td>34</td>\n",
       "      <td>Q3_94</td>\n",
       "      <td>4461.0</td>\n",
       "      <td>Q3 1994</td>\n",
       "      <td>1994-07-01</td>\n",
       "      <td>Q3</td>\n",
       "    </tr>\n",
       "  </tbody>\n",
       "</table>\n",
       "</div>"
      ],
      "text/plain": [
       "   Unnamed: 0 Quarter   Sales Quarter_Year        Date Quarters\n",
       "0          30   Q3_93  3629.0      Q3 1993  1993-07-01       Q3\n",
       "1          31   Q4_93  3373.0      Q4 1993  1993-10-01       Q4\n",
       "2          32   Q1_94  3352.0      Q1 1994  1994-01-01       Q1\n",
       "3          33   Q2_94  4342.0      Q2 1994  1994-04-01       Q2\n",
       "4          34   Q3_94  4461.0      Q3 1994  1994-07-01       Q3"
      ]
     },
     "execution_count": 92,
     "metadata": {},
     "output_type": "execute_result"
    }
   ],
   "source": [
    "#We will try to predict the data for the whole year of 2022\n",
    "predict_data = pd.read_csv('predict_data_coca.csv')\n",
    "predict_data.head()"
   ]
  },
  {
   "cell_type": "code",
   "execution_count": 93,
   "id": "ab00768a",
   "metadata": {},
   "outputs": [
    {
     "name": "stdout",
     "output_type": "stream",
     "text": [
      "<class 'pandas.core.frame.DataFrame'>\n",
      "RangeIndex: 12 entries, 0 to 11\n",
      "Data columns (total 6 columns):\n",
      " #   Column        Non-Null Count  Dtype  \n",
      "---  ------        --------------  -----  \n",
      " 0   Unnamed: 0    12 non-null     int64  \n",
      " 1   Quarter       12 non-null     object \n",
      " 2   Sales         12 non-null     float64\n",
      " 3   Quarter_Year  12 non-null     object \n",
      " 4   Date          12 non-null     object \n",
      " 5   Quarters      12 non-null     object \n",
      "dtypes: float64(1), int64(1), object(4)\n",
      "memory usage: 704.0+ bytes\n"
     ]
    }
   ],
   "source": [
    "predict_data.info()"
   ]
  },
  {
   "cell_type": "code",
   "execution_count": 95,
   "id": "b4ec2571",
   "metadata": {},
   "outputs": [],
   "source": [
    "#Convert Month column dtype to datetime64\n",
    "predict_data['Date'] = predict_data['Date'].astype(\"datetime64[ns]\")"
   ]
  },
  {
   "cell_type": "code",
   "execution_count": 96,
   "id": "6a890a83",
   "metadata": {},
   "outputs": [
    {
     "name": "stdout",
     "output_type": "stream",
     "text": [
      "<class 'pandas.core.frame.DataFrame'>\n",
      "RangeIndex: 12 entries, 0 to 11\n",
      "Data columns (total 6 columns):\n",
      " #   Column        Non-Null Count  Dtype         \n",
      "---  ------        --------------  -----         \n",
      " 0   Unnamed: 0    12 non-null     int64         \n",
      " 1   Quarter       12 non-null     object        \n",
      " 2   Sales         12 non-null     float64       \n",
      " 3   Quarter_Year  12 non-null     object        \n",
      " 4   Date          12 non-null     datetime64[ns]\n",
      " 5   Quarters      12 non-null     object        \n",
      "dtypes: datetime64[ns](1), float64(1), int64(1), object(3)\n",
      "memory usage: 704.0+ bytes\n"
     ]
    }
   ],
   "source": [
    "predict_data.info()"
   ]
  },
  {
   "cell_type": "code",
   "execution_count": 97,
   "id": "3e03e6b1",
   "metadata": {},
   "outputs": [],
   "source": [
    "final_model = ExponentialSmoothing(df_coca[\"Sales\"],seasonal=\"mul\",trend=\"add\",seasonal_periods=12).fit() \n"
   ]
  },
  {
   "cell_type": "code",
   "execution_count": 98,
   "id": "d330d6a0",
   "metadata": {},
   "outputs": [
    {
     "data": {
      "text/plain": [
       "0     1742.716168\n",
       "1     2237.373510\n",
       "2     2265.365235\n",
       "3     2292.666979\n",
       "4     2049.376857\n",
       "5     2020.284009\n",
       "6     2012.596629\n",
       "7     1881.945143\n",
       "8     1940.212627\n",
       "9     2374.718573\n",
       "10    2350.662804\n",
       "11    1938.613508\n",
       "dtype: float64"
      ]
     },
     "execution_count": 98,
     "metadata": {},
     "output_type": "execute_result"
    }
   ],
   "source": [
    "#this give us log_passengers \n",
    "pred_new  = pd.Series(final_model.predict(start = predict_data.index[0], end = predict_data.index[-1]))\n",
    "pred_new"
   ]
  },
  {
   "cell_type": "code",
   "execution_count": 99,
   "id": "9c04f942",
   "metadata": {},
   "outputs": [],
   "source": [
    "predict_data[\"Sales\"] = pred_new"
   ]
  },
  {
   "cell_type": "code",
   "execution_count": 100,
   "id": "0c939a81",
   "metadata": {},
   "outputs": [
    {
     "data": {
      "text/html": [
       "<div>\n",
       "<style scoped>\n",
       "    .dataframe tbody tr th:only-of-type {\n",
       "        vertical-align: middle;\n",
       "    }\n",
       "\n",
       "    .dataframe tbody tr th {\n",
       "        vertical-align: top;\n",
       "    }\n",
       "\n",
       "    .dataframe thead th {\n",
       "        text-align: right;\n",
       "    }\n",
       "</style>\n",
       "<table border=\"1\" class=\"dataframe\">\n",
       "  <thead>\n",
       "    <tr style=\"text-align: right;\">\n",
       "      <th></th>\n",
       "      <th>Unnamed: 0</th>\n",
       "      <th>Quarter</th>\n",
       "      <th>Sales</th>\n",
       "      <th>Quarter_Year</th>\n",
       "      <th>Date</th>\n",
       "      <th>Quarters</th>\n",
       "    </tr>\n",
       "  </thead>\n",
       "  <tbody>\n",
       "    <tr>\n",
       "      <th>0</th>\n",
       "      <td>30</td>\n",
       "      <td>Q3_93</td>\n",
       "      <td>1742.716168</td>\n",
       "      <td>Q3 1993</td>\n",
       "      <td>1993-07-01</td>\n",
       "      <td>Q3</td>\n",
       "    </tr>\n",
       "    <tr>\n",
       "      <th>1</th>\n",
       "      <td>31</td>\n",
       "      <td>Q4_93</td>\n",
       "      <td>2237.373510</td>\n",
       "      <td>Q4 1993</td>\n",
       "      <td>1993-10-01</td>\n",
       "      <td>Q4</td>\n",
       "    </tr>\n",
       "    <tr>\n",
       "      <th>2</th>\n",
       "      <td>32</td>\n",
       "      <td>Q1_94</td>\n",
       "      <td>2265.365235</td>\n",
       "      <td>Q1 1994</td>\n",
       "      <td>1994-01-01</td>\n",
       "      <td>Q1</td>\n",
       "    </tr>\n",
       "    <tr>\n",
       "      <th>3</th>\n",
       "      <td>33</td>\n",
       "      <td>Q2_94</td>\n",
       "      <td>2292.666979</td>\n",
       "      <td>Q2 1994</td>\n",
       "      <td>1994-04-01</td>\n",
       "      <td>Q2</td>\n",
       "    </tr>\n",
       "    <tr>\n",
       "      <th>4</th>\n",
       "      <td>34</td>\n",
       "      <td>Q3_94</td>\n",
       "      <td>2049.376857</td>\n",
       "      <td>Q3 1994</td>\n",
       "      <td>1994-07-01</td>\n",
       "      <td>Q3</td>\n",
       "    </tr>\n",
       "    <tr>\n",
       "      <th>5</th>\n",
       "      <td>35</td>\n",
       "      <td>Q4_94</td>\n",
       "      <td>2020.284009</td>\n",
       "      <td>Q4 1994</td>\n",
       "      <td>1994-10-01</td>\n",
       "      <td>Q4</td>\n",
       "    </tr>\n",
       "    <tr>\n",
       "      <th>6</th>\n",
       "      <td>36</td>\n",
       "      <td>Q1_95</td>\n",
       "      <td>2012.596629</td>\n",
       "      <td>Q1 1995</td>\n",
       "      <td>1995-01-01</td>\n",
       "      <td>Q1</td>\n",
       "    </tr>\n",
       "    <tr>\n",
       "      <th>7</th>\n",
       "      <td>37</td>\n",
       "      <td>Q2_95</td>\n",
       "      <td>1881.945143</td>\n",
       "      <td>Q2 1995</td>\n",
       "      <td>1995-04-01</td>\n",
       "      <td>Q2</td>\n",
       "    </tr>\n",
       "    <tr>\n",
       "      <th>8</th>\n",
       "      <td>38</td>\n",
       "      <td>Q3_95</td>\n",
       "      <td>1940.212627</td>\n",
       "      <td>Q3 1995</td>\n",
       "      <td>1995-07-01</td>\n",
       "      <td>Q3</td>\n",
       "    </tr>\n",
       "    <tr>\n",
       "      <th>9</th>\n",
       "      <td>39</td>\n",
       "      <td>Q4_95</td>\n",
       "      <td>2374.718573</td>\n",
       "      <td>Q4 1995</td>\n",
       "      <td>1995-10-01</td>\n",
       "      <td>Q4</td>\n",
       "    </tr>\n",
       "    <tr>\n",
       "      <th>10</th>\n",
       "      <td>40</td>\n",
       "      <td>Q1_96</td>\n",
       "      <td>2350.662804</td>\n",
       "      <td>Q1 1996</td>\n",
       "      <td>1996-01-01</td>\n",
       "      <td>Q1</td>\n",
       "    </tr>\n",
       "    <tr>\n",
       "      <th>11</th>\n",
       "      <td>41</td>\n",
       "      <td>Q2_96</td>\n",
       "      <td>1938.613508</td>\n",
       "      <td>Q2 1996</td>\n",
       "      <td>1996-04-01</td>\n",
       "      <td>Q2</td>\n",
       "    </tr>\n",
       "  </tbody>\n",
       "</table>\n",
       "</div>"
      ],
      "text/plain": [
       "    Unnamed: 0 Quarter        Sales Quarter_Year       Date Quarters\n",
       "0           30   Q3_93  1742.716168      Q3 1993 1993-07-01       Q3\n",
       "1           31   Q4_93  2237.373510      Q4 1993 1993-10-01       Q4\n",
       "2           32   Q1_94  2265.365235      Q1 1994 1994-01-01       Q1\n",
       "3           33   Q2_94  2292.666979      Q2 1994 1994-04-01       Q2\n",
       "4           34   Q3_94  2049.376857      Q3 1994 1994-07-01       Q3\n",
       "5           35   Q4_94  2020.284009      Q4 1994 1994-10-01       Q4\n",
       "6           36   Q1_95  2012.596629      Q1 1995 1995-01-01       Q1\n",
       "7           37   Q2_95  1881.945143      Q2 1995 1995-04-01       Q2\n",
       "8           38   Q3_95  1940.212627      Q3 1995 1995-07-01       Q3\n",
       "9           39   Q4_95  2374.718573      Q4 1995 1995-10-01       Q4\n",
       "10          40   Q1_96  2350.662804      Q1 1996 1996-01-01       Q1\n",
       "11          41   Q2_96  1938.613508      Q2 1996 1996-04-01       Q2"
      ]
     },
     "execution_count": 100,
     "metadata": {},
     "output_type": "execute_result"
    }
   ],
   "source": [
    "predict_data"
   ]
  },
  {
   "cell_type": "code",
   "execution_count": 101,
   "id": "14c65d69",
   "metadata": {},
   "outputs": [
    {
     "data": {
      "text/plain": [
       "<AxesSubplot: >"
      ]
     },
     "execution_count": 101,
     "metadata": {},
     "output_type": "execute_result"
    },
    {
     "data": {
      "image/png": "[encoded data removed]",
      "text/plain": [
       "<Figure size 864x576 with 1 Axes>"
      ]
     },
     "metadata": {
      "needs_background": "light"
     },
     "output_type": "display_data"
    }
   ],
   "source": [
    "df_coca['forecast_sales']=pd.Series(final_model.predict(start = df_coca.index[0], end = df_coca.index[-1]))\n",
    "df_coca[['forecast_sales','Sales']].plot(figsize=(12,8))"
   ]
  },
  {
   "cell_type": "code",
   "execution_count": null,
   "id": "6dd9e976",
   "metadata": {},
   "outputs": [],
   "source": []
  }
 ],
 "metadata": {
  "kernelspec": {
   "display_name": "Python 3 (ipykernel)",
   "language": "python",
   "name": "python3"
  },
  "language_info": {
   "codemirror_mode": {
    "name": "ipython",
    "version": 3
   },
   "file_extension": ".py",
   "mimetype": "text/x-python",
   "name": "python",
   "nbconvert_exporter": "python",
   "pygments_lexer": "ipython3",
   "version": "3.9.7"
  }
 },
 "nbformat": 4,
 "nbformat_minor": 5
}
